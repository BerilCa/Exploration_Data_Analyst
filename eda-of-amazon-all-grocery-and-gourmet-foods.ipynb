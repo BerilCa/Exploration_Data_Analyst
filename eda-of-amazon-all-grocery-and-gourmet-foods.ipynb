{
 "cells": [
  {
   "cell_type": "code",
   "execution_count": 1,
   "id": "2c5b51c4",
   "metadata": {
    "_cell_guid": "b1076dfc-b9ad-4769-8c92-a6c4dae69d19",
    "_uuid": "8f2839f25d086af736a60e9eeb907d3b93b6e0e5",
    "execution": {
     "iopub.execute_input": "2024-01-29T05:40:31.132909Z",
     "iopub.status.busy": "2024-01-29T05:40:31.132126Z",
     "iopub.status.idle": "2024-01-29T05:40:31.756332Z",
     "shell.execute_reply": "2024-01-29T05:40:31.755032Z"
    },
    "papermill": {
     "duration": 0.642011,
     "end_time": "2024-01-29T05:40:31.761001",
     "exception": false,
     "start_time": "2024-01-29T05:40:31.118990",
     "status": "completed"
    },
    "tags": []
   },
   "outputs": [
    {
     "name": "stdout",
     "output_type": "stream",
     "text": [
      "/kaggle/input/amazon-products-dataset/Gaming Consoles.csv\n",
      "/kaggle/input/amazon-products-dataset/Car Electronics.csv\n",
      "/kaggle/input/amazon-products-dataset/Janitorial and Sanitation Supplies.csv\n",
      "/kaggle/input/amazon-products-dataset/All Electronics.csv\n",
      "/kaggle/input/amazon-products-dataset/All Books.csv\n",
      "/kaggle/input/amazon-products-dataset/Make-up.csv\n",
      "/kaggle/input/amazon-products-dataset/Travel Accessories.csv\n",
      "/kaggle/input/amazon-products-dataset/Indian Language Books.csv\n",
      "/kaggle/input/amazon-products-dataset/Car and Bike Care.csv\n",
      "/kaggle/input/amazon-products-dataset/Sunglasses.csv\n",
      "/kaggle/input/amazon-products-dataset/Bags and Luggage.csv\n",
      "/kaggle/input/amazon-products-dataset/Yoga.csv\n",
      "/kaggle/input/amazon-products-dataset/Sportswear.csv\n",
      "/kaggle/input/amazon-products-dataset/Fiction Books.csv\n",
      "/kaggle/input/amazon-products-dataset/Exam Central.csv\n",
      "/kaggle/input/amazon-products-dataset/Home Storage.csv\n",
      "/kaggle/input/amazon-products-dataset/Toys Gifting Store.csv\n",
      "/kaggle/input/amazon-products-dataset/All English.csv\n",
      "/kaggle/input/amazon-products-dataset/Amazon-Products.csv\n",
      "/kaggle/input/amazon-products-dataset/Air Conditioners.csv\n",
      "/kaggle/input/amazon-products-dataset/Shoes.csv\n",
      "/kaggle/input/amazon-products-dataset/Casual Shoes.csv\n",
      "/kaggle/input/amazon-products-dataset/Baby Products.csv\n",
      "/kaggle/input/amazon-products-dataset/Sports Collectibles.csv\n",
      "/kaggle/input/amazon-products-dataset/Wallets.csv\n",
      "/kaggle/input/amazon-products-dataset/Musical Instruments and Professional Audio.csv\n",
      "/kaggle/input/amazon-products-dataset/Gold and Diamond Jewellery.csv\n",
      "/kaggle/input/amazon-products-dataset/Nursing and Feeding.csv\n",
      "/kaggle/input/amazon-products-dataset/Home Furnishing.csv\n",
      "/kaggle/input/amazon-products-dataset/School Textbooks.csv\n",
      "/kaggle/input/amazon-products-dataset/All Hindi.csv\n",
      "/kaggle/input/amazon-products-dataset/Baby Bath Skin and Grooming.csv\n",
      "/kaggle/input/amazon-products-dataset/Coffee Tea and Beverages.csv\n",
      "/kaggle/input/amazon-products-dataset/Headphones.csv\n",
      "/kaggle/input/amazon-products-dataset/Furniture.csv\n",
      "/kaggle/input/amazon-products-dataset/Shirts.csv\n",
      "/kaggle/input/amazon-products-dataset/Subscribe and Save.csv\n",
      "/kaggle/input/amazon-products-dataset/Fitness Accessories.csv\n",
      "/kaggle/input/amazon-products-dataset/Formal Shoes.csv\n",
      "/kaggle/input/amazon-products-dataset/Cycling.csv\n",
      "/kaggle/input/amazon-products-dataset/Western Wear.csv\n",
      "/kaggle/input/amazon-products-dataset/Bedroom Linen.csv\n",
      "/kaggle/input/amazon-products-dataset/Gaming Accessories.csv\n",
      "/kaggle/input/amazon-products-dataset/Amazon Fashion.csv\n",
      "/kaggle/input/amazon-products-dataset/Home Entertainment Systems.csv\n",
      "/kaggle/input/amazon-products-dataset/Strollers and Prams.csv\n",
      "/kaggle/input/amazon-products-dataset/Refurbished and Open Box.csv\n",
      "/kaggle/input/amazon-products-dataset/Garden and Outdoors.csv\n",
      "/kaggle/input/amazon-products-dataset/Diapers.csv\n",
      "/kaggle/input/amazon-products-dataset/STEM Toys Store.csv\n",
      "/kaggle/input/amazon-products-dataset/Kids Clothing.csv\n",
      "/kaggle/input/amazon-products-dataset/All Car and Motorbike Products.csv\n",
      "/kaggle/input/amazon-products-dataset/All Sports Fitness and Outdoors.csv\n",
      "/kaggle/input/amazon-products-dataset/Film Songs.csv\n",
      "/kaggle/input/amazon-products-dataset/All Home and Kitchen.csv\n",
      "/kaggle/input/amazon-products-dataset/Speakers.csv\n",
      "/kaggle/input/amazon-products-dataset/Beauty and Grooming.csv\n",
      "/kaggle/input/amazon-products-dataset/Fashion and Silver Jewellery.csv\n",
      "/kaggle/input/amazon-products-dataset/Televisions.csv\n",
      "/kaggle/input/amazon-products-dataset/Cameras.csv\n",
      "/kaggle/input/amazon-products-dataset/Home Improvement.csv\n",
      "/kaggle/input/amazon-products-dataset/Blu-ray.csv\n",
      "/kaggle/input/amazon-products-dataset/Kitchen and Home Appliances.csv\n",
      "/kaggle/input/amazon-products-dataset/Health and Personal Care.csv\n",
      "/kaggle/input/amazon-products-dataset/Sports Shoes.csv\n",
      "/kaggle/input/amazon-products-dataset/Indoor Lighting.csv\n",
      "/kaggle/input/amazon-products-dataset/Indian Classical.csv\n",
      "/kaggle/input/amazon-products-dataset/Mens Fashion.csv\n",
      "/kaggle/input/amazon-products-dataset/Kindle eBooks.csv\n",
      "/kaggle/input/amazon-products-dataset/Snack Foods.csv\n",
      "/kaggle/input/amazon-products-dataset/Kitchen Storage and Containers.csv\n",
      "/kaggle/input/amazon-products-dataset/Strength Training.csv\n",
      "/kaggle/input/amazon-products-dataset/International Music.csv\n",
      "/kaggle/input/amazon-products-dataset/Video Games Deals.csv\n",
      "/kaggle/input/amazon-products-dataset/Textbooks.csv\n",
      "/kaggle/input/amazon-products-dataset/Fine Art.csv\n",
      "/kaggle/input/amazon-products-dataset/All Grocery and Gourmet Foods.csv\n",
      "/kaggle/input/amazon-products-dataset/Luxury Beauty.csv\n",
      "/kaggle/input/amazon-products-dataset/Kids Shoes.csv\n",
      "/kaggle/input/amazon-products-dataset/Jewellery.csv\n",
      "/kaggle/input/amazon-products-dataset/Jeans.csv\n",
      "/kaggle/input/amazon-products-dataset/Cricket.csv\n",
      "/kaggle/input/amazon-products-dataset/Kids Fashion.csv\n",
      "/kaggle/input/amazon-products-dataset/Baby Fashion.csv\n",
      "/kaggle/input/amazon-products-dataset/Sewing and Craft Supplies.csv\n",
      "/kaggle/input/amazon-products-dataset/Car Parts.csv\n",
      "/kaggle/input/amazon-products-dataset/Pantry.csv\n",
      "/kaggle/input/amazon-products-dataset/Car Accessories.csv\n",
      "/kaggle/input/amazon-products-dataset/All Music.csv\n",
      "/kaggle/input/amazon-products-dataset/Toys and Games.csv\n",
      "/kaggle/input/amazon-products-dataset/Amazon Pharmacy.csv\n",
      "/kaggle/input/amazon-products-dataset/Camping and Hiking.csv\n",
      "/kaggle/input/amazon-products-dataset/Ethnic Wear.csv\n",
      "/kaggle/input/amazon-products-dataset/Kids Watches.csv\n",
      "/kaggle/input/amazon-products-dataset/Heating and Cooling Appliances.csv\n",
      "/kaggle/input/amazon-products-dataset/Kitchen and Dining.csv\n",
      "/kaggle/input/amazon-products-dataset/Personal Care Appliances.csv\n",
      "/kaggle/input/amazon-products-dataset/Home Audio and Theater.csv\n",
      "/kaggle/input/amazon-products-dataset/Security Cameras.csv\n",
      "/kaggle/input/amazon-products-dataset/Fashion Sales and Deals.csv\n",
      "/kaggle/input/amazon-products-dataset/Lab and Scientific.csv\n",
      "/kaggle/input/amazon-products-dataset/Rucksacks.csv\n",
      "/kaggle/input/amazon-products-dataset/Football.csv\n",
      "/kaggle/input/amazon-products-dataset/Diet and Nutrition.csv\n",
      "/kaggle/input/amazon-products-dataset/Lingerie and Nightwear.csv\n",
      "/kaggle/input/amazon-products-dataset/School Bags.csv\n",
      "/kaggle/input/amazon-products-dataset/T-shirts and Polos.csv\n",
      "/kaggle/input/amazon-products-dataset/All Pet Supplies.csv\n",
      "/kaggle/input/amazon-products-dataset/Value Bazaar.csv\n",
      "/kaggle/input/amazon-products-dataset/Household Supplies.csv\n",
      "/kaggle/input/amazon-products-dataset/Backpacks.csv\n",
      "/kaggle/input/amazon-products-dataset/Fashion Sandals.csv\n",
      "/kaggle/input/amazon-products-dataset/Camera Accessories.csv\n",
      "/kaggle/input/amazon-products-dataset/Industrial and Scientific Supplies.csv\n",
      "/kaggle/input/amazon-products-dataset/Motorbike Accessories and Parts.csv\n",
      "/kaggle/input/amazon-products-dataset/All Appliances.csv\n",
      "/kaggle/input/amazon-products-dataset/PC Games.csv\n",
      "/kaggle/input/amazon-products-dataset/Running.csv\n",
      "/kaggle/input/amazon-products-dataset/All Movies and TV Shows.csv\n",
      "/kaggle/input/amazon-products-dataset/Dog supplies.csv\n",
      "/kaggle/input/amazon-products-dataset/Entertainment Collectibles.csv\n",
      "/kaggle/input/amazon-products-dataset/Washing Machines.csv\n",
      "/kaggle/input/amazon-products-dataset/Cardio Equipment.csv\n",
      "/kaggle/input/amazon-products-dataset/Refrigerators.csv\n",
      "/kaggle/input/amazon-products-dataset/All Video Games.csv\n",
      "/kaggle/input/amazon-products-dataset/Innerwear.csv\n",
      "/kaggle/input/amazon-products-dataset/Suitcases and Trolley Bags.csv\n",
      "/kaggle/input/amazon-products-dataset/Home Dcor.csv\n",
      "/kaggle/input/amazon-products-dataset/Clothing.csv\n",
      "/kaggle/input/amazon-products-dataset/Ballerinas.csv\n",
      "/kaggle/input/amazon-products-dataset/All Exercise and Fitness.csv\n",
      "/kaggle/input/amazon-products-dataset/Badminton.csv\n",
      "/kaggle/input/amazon-products-dataset/Travel Duffles.csv\n",
      "/kaggle/input/amazon-products-dataset/Handbags and Clutches.csv\n",
      "/kaggle/input/amazon-products-dataset/Womens Fashion.csv\n",
      "/kaggle/input/amazon-products-dataset/International Toy Store.csv\n",
      "/kaggle/input/amazon-products-dataset/The Designer Boutique.csv\n",
      "/kaggle/input/amazon-products-dataset/Watches.csv\n",
      "/kaggle/input/amazon-products-dataset/Test Measure and Inspect.csv\n",
      "/kaggle/input/amazon-products-dataset/Childrens Books.csv\n"
     ]
    }
   ],
   "source": [
    "# This Python 3 environment comes with many helpful analytics libraries installed\n",
    "# It is defined by the kaggle/python Docker image: https://github.com/kaggle/docker-python\n",
    "# For example, here's several helpful packages to load\n",
    "\n",
    "import numpy as np # linear algebra\n",
    "import pandas as pd # data processing, CSV file I/O (e.g. pd.read_csv)\n",
    "\n",
    "# Input data files are available in the read-only \"../input/\" directory\n",
    "# For example, running this (by clicking run or pressing Shift+Enter) will list all files under the input directory\n",
    "\n",
    "import os\n",
    "for dirname, _, filenames in os.walk('/kaggle/input'):\n",
    "    for filename in filenames:\n",
    "        print(os.path.join(dirname, filename))\n",
    "\n",
    "# You can write up to 20GB to the current directory (/kaggle/working/) that gets preserved as output when you create a version using \"Save & Run All\" \n",
    "# You can also write temporary files to /kaggle/temp/, but they won't be saved outside of the current session"
   ]
  },
  {
   "cell_type": "code",
   "execution_count": 2,
   "id": "f55ea0dd",
   "metadata": {
    "execution": {
     "iopub.execute_input": "2024-01-29T05:40:31.785410Z",
     "iopub.status.busy": "2024-01-29T05:40:31.784717Z",
     "iopub.status.idle": "2024-01-29T05:40:33.158330Z",
     "shell.execute_reply": "2024-01-29T05:40:33.156946Z"
    },
    "papermill": {
     "duration": 1.389101,
     "end_time": "2024-01-29T05:40:33.161592",
     "exception": false,
     "start_time": "2024-01-29T05:40:31.772491",
     "status": "completed"
    },
    "tags": []
   },
   "outputs": [],
   "source": [
    "import pandas as pd\n",
    "import numpy as np \n",
    "import matplotlib.pyplot as plt\n",
    "import seaborn as sns\n",
    "plt.style.use('_mpl-gallery')\n",
    "pd.set_option(\"display.max_columns\", 300)"
   ]
  },
  {
   "cell_type": "code",
   "execution_count": 3,
   "id": "c2f8aefb",
   "metadata": {
    "execution": {
     "iopub.execute_input": "2024-01-29T05:40:33.185582Z",
     "iopub.status.busy": "2024-01-29T05:40:33.185116Z",
     "iopub.status.idle": "2024-01-29T05:40:33.246374Z",
     "shell.execute_reply": "2024-01-29T05:40:33.244782Z"
    },
    "papermill": {
     "duration": 0.076957,
     "end_time": "2024-01-29T05:40:33.249416",
     "exception": false,
     "start_time": "2024-01-29T05:40:33.172459",
     "status": "completed"
    },
    "tags": []
   },
   "outputs": [
    {
     "data": {
      "text/html": [
       "<div>\n",
       "<style scoped>\n",
       "    .dataframe tbody tr th:only-of-type {\n",
       "        vertical-align: middle;\n",
       "    }\n",
       "\n",
       "    .dataframe tbody tr th {\n",
       "        vertical-align: top;\n",
       "    }\n",
       "\n",
       "    .dataframe thead th {\n",
       "        text-align: right;\n",
       "    }\n",
       "</style>\n",
       "<table border=\"1\" class=\"dataframe\">\n",
       "  <thead>\n",
       "    <tr style=\"text-align: right;\">\n",
       "      <th></th>\n",
       "      <th>name</th>\n",
       "      <th>main_category</th>\n",
       "      <th>sub_category</th>\n",
       "      <th>image</th>\n",
       "      <th>link</th>\n",
       "      <th>ratings</th>\n",
       "      <th>no_of_ratings</th>\n",
       "      <th>discount_price</th>\n",
       "      <th>actual_price</th>\n",
       "    </tr>\n",
       "  </thead>\n",
       "  <tbody>\n",
       "    <tr>\n",
       "      <th>0</th>\n",
       "      <td>Nutraj 100% Natural Dried Premium California W...</td>\n",
       "      <td>grocery &amp; gourmet foods</td>\n",
       "      <td>All Grocery &amp; Gourmet Foods</td>\n",
       "      <td>https://m.media-amazon.com/images/I/71f5UPOWDq...</td>\n",
       "      <td>https://www.amazon.in/Nutraj-California-Walnut...</td>\n",
       "      <td>3.9</td>\n",
       "      <td>6,081</td>\n",
       "      <td>₹686</td>\n",
       "      <td>₹998</td>\n",
       "    </tr>\n",
       "    <tr>\n",
       "      <th>1</th>\n",
       "      <td>Cadbury Bournvita 5 Star Magic Health Drink, 7...</td>\n",
       "      <td>grocery &amp; gourmet foods</td>\n",
       "      <td>All Grocery &amp; Gourmet Foods</td>\n",
       "      <td>https://m.media-amazon.com/images/I/614FIW5c6H...</td>\n",
       "      <td>https://www.amazon.in/Bournvita-Magic-Chocolat...</td>\n",
       "      <td>4.3</td>\n",
       "      <td>8,481</td>\n",
       "      <td>NaN</td>\n",
       "      <td>₹353</td>\n",
       "    </tr>\n",
       "    <tr>\n",
       "      <th>2</th>\n",
       "      <td>Sugar Free Green Natural Stevia Jar(200 g)</td>\n",
       "      <td>grocery &amp; gourmet foods</td>\n",
       "      <td>All Grocery &amp; Gourmet Foods</td>\n",
       "      <td>https://m.media-amazon.com/images/I/61rBhkTJ6E...</td>\n",
       "      <td>https://www.amazon.in/Sugarfree-Green-100-Natu...</td>\n",
       "      <td>4.3</td>\n",
       "      <td>1,585</td>\n",
       "      <td>₹162</td>\n",
       "      <td>₹170</td>\n",
       "    </tr>\n",
       "    <tr>\n",
       "      <th>3</th>\n",
       "      <td>Daawat Pulav, Long Grains, Fluffy Basmati for ...</td>\n",
       "      <td>grocery &amp; gourmet foods</td>\n",
       "      <td>All Grocery &amp; Gourmet Foods</td>\n",
       "      <td>https://m.media-amazon.com/images/I/71UO6eXC1Q...</td>\n",
       "      <td>https://www.amazon.in/Daawat-Pulav-Basmati-Ric...</td>\n",
       "      <td>4.3</td>\n",
       "      <td>3,907</td>\n",
       "      <td>₹138</td>\n",
       "      <td>₹139</td>\n",
       "    </tr>\n",
       "    <tr>\n",
       "      <th>4</th>\n",
       "      <td>Tata Tea Gold | Assam teas with Gently Rolled ...</td>\n",
       "      <td>grocery &amp; gourmet foods</td>\n",
       "      <td>All Grocery &amp; Gourmet Foods</td>\n",
       "      <td>https://m.media-amazon.com/images/I/51kEujuYlp...</td>\n",
       "      <td>https://www.amazon.in/Tata-Tea-Gold-500g/dp/B0...</td>\n",
       "      <td>4.4</td>\n",
       "      <td>15,528</td>\n",
       "      <td>₹283</td>\n",
       "      <td>₹295</td>\n",
       "    </tr>\n",
       "  </tbody>\n",
       "</table>\n",
       "</div>"
      ],
      "text/plain": [
       "                                                name            main_category  \\\n",
       "0  Nutraj 100% Natural Dried Premium California W...  grocery & gourmet foods   \n",
       "1  Cadbury Bournvita 5 Star Magic Health Drink, 7...  grocery & gourmet foods   \n",
       "2         Sugar Free Green Natural Stevia Jar(200 g)  grocery & gourmet foods   \n",
       "3  Daawat Pulav, Long Grains, Fluffy Basmati for ...  grocery & gourmet foods   \n",
       "4  Tata Tea Gold | Assam teas with Gently Rolled ...  grocery & gourmet foods   \n",
       "\n",
       "                  sub_category  \\\n",
       "0  All Grocery & Gourmet Foods   \n",
       "1  All Grocery & Gourmet Foods   \n",
       "2  All Grocery & Gourmet Foods   \n",
       "3  All Grocery & Gourmet Foods   \n",
       "4  All Grocery & Gourmet Foods   \n",
       "\n",
       "                                               image  \\\n",
       "0  https://m.media-amazon.com/images/I/71f5UPOWDq...   \n",
       "1  https://m.media-amazon.com/images/I/614FIW5c6H...   \n",
       "2  https://m.media-amazon.com/images/I/61rBhkTJ6E...   \n",
       "3  https://m.media-amazon.com/images/I/71UO6eXC1Q...   \n",
       "4  https://m.media-amazon.com/images/I/51kEujuYlp...   \n",
       "\n",
       "                                                link ratings no_of_ratings  \\\n",
       "0  https://www.amazon.in/Nutraj-California-Walnut...     3.9         6,081   \n",
       "1  https://www.amazon.in/Bournvita-Magic-Chocolat...     4.3         8,481   \n",
       "2  https://www.amazon.in/Sugarfree-Green-100-Natu...     4.3         1,585   \n",
       "3  https://www.amazon.in/Daawat-Pulav-Basmati-Ric...     4.3         3,907   \n",
       "4  https://www.amazon.in/Tata-Tea-Gold-500g/dp/B0...     4.4        15,528   \n",
       "\n",
       "  discount_price actual_price  \n",
       "0           ₹686         ₹998  \n",
       "1            NaN         ₹353  \n",
       "2           ₹162         ₹170  \n",
       "3           ₹138         ₹139  \n",
       "4           ₹283         ₹295  "
      ]
     },
     "execution_count": 3,
     "metadata": {},
     "output_type": "execute_result"
    }
   ],
   "source": [
    "df = pd.read_csv(\"/kaggle/input/amazon-products-dataset/All Grocery and Gourmet Foods.csv\")\n",
    "df.head()"
   ]
  },
  {
   "cell_type": "code",
   "execution_count": 4,
   "id": "c9089968",
   "metadata": {
    "execution": {
     "iopub.execute_input": "2024-01-29T05:40:33.274468Z",
     "iopub.status.busy": "2024-01-29T05:40:33.273983Z",
     "iopub.status.idle": "2024-01-29T05:40:33.282666Z",
     "shell.execute_reply": "2024-01-29T05:40:33.281320Z"
    },
    "papermill": {
     "duration": 0.024479,
     "end_time": "2024-01-29T05:40:33.285378",
     "exception": false,
     "start_time": "2024-01-29T05:40:33.260899",
     "status": "completed"
    },
    "tags": []
   },
   "outputs": [
    {
     "data": {
      "text/plain": [
       "(960, 9)"
      ]
     },
     "execution_count": 4,
     "metadata": {},
     "output_type": "execute_result"
    }
   ],
   "source": [
    "df.shape"
   ]
  },
  {
   "cell_type": "code",
   "execution_count": 5,
   "id": "35d60279",
   "metadata": {
    "execution": {
     "iopub.execute_input": "2024-01-29T05:40:33.310123Z",
     "iopub.status.busy": "2024-01-29T05:40:33.309593Z",
     "iopub.status.idle": "2024-01-29T05:40:33.319779Z",
     "shell.execute_reply": "2024-01-29T05:40:33.318818Z"
    },
    "papermill": {
     "duration": 0.025732,
     "end_time": "2024-01-29T05:40:33.322358",
     "exception": false,
     "start_time": "2024-01-29T05:40:33.296626",
     "status": "completed"
    },
    "tags": []
   },
   "outputs": [
    {
     "data": {
      "text/plain": [
       "Index(['name', 'main_category', 'sub_category', 'image', 'link', 'ratings',\n",
       "       'no_of_ratings', 'discount_price', 'actual_price'],\n",
       "      dtype='object')"
      ]
     },
     "execution_count": 5,
     "metadata": {},
     "output_type": "execute_result"
    }
   ],
   "source": [
    "df.columns"
   ]
  },
  {
   "cell_type": "code",
   "execution_count": 6,
   "id": "51210f89",
   "metadata": {
    "execution": {
     "iopub.execute_input": "2024-01-29T05:40:33.348367Z",
     "iopub.status.busy": "2024-01-29T05:40:33.346787Z",
     "iopub.status.idle": "2024-01-29T05:40:33.496339Z",
     "shell.execute_reply": "2024-01-29T05:40:33.494788Z"
    },
    "papermill": {
     "duration": 0.165814,
     "end_time": "2024-01-29T05:40:33.499600",
     "exception": false,
     "start_time": "2024-01-29T05:40:33.333786",
     "status": "completed"
    },
    "tags": []
   },
   "outputs": [
    {
     "name": "stdout",
     "output_type": "stream",
     "text": [
      "<class 'pandas.core.frame.DataFrame'>\n",
      "RangeIndex: 960 entries, 0 to 959\n",
      "Data columns (total 9 columns):\n",
      " #   Column          Non-Null Count  Dtype \n",
      "---  ------          --------------  ----- \n",
      " 0   name            960 non-null    object\n",
      " 1   main_category   960 non-null    object\n",
      " 2   sub_category    960 non-null    object\n",
      " 3   image           960 non-null    object\n",
      " 4   link            960 non-null    object\n",
      " 5   ratings         946 non-null    object\n",
      " 6   no_of_ratings   946 non-null    object\n",
      " 7   discount_price  759 non-null    object\n",
      " 8   actual_price    954 non-null    object\n",
      "dtypes: object(9)\n",
      "memory usage: 67.6+ KB\n"
     ]
    }
   ],
   "source": [
    "df.info()"
   ]
  },
  {
   "cell_type": "code",
   "execution_count": 7,
   "id": "6c15e802",
   "metadata": {
    "execution": {
     "iopub.execute_input": "2024-01-29T05:40:33.525650Z",
     "iopub.status.busy": "2024-01-29T05:40:33.524243Z",
     "iopub.status.idle": "2024-01-29T05:40:33.536141Z",
     "shell.execute_reply": "2024-01-29T05:40:33.534821Z"
    },
    "papermill": {
     "duration": 0.027608,
     "end_time": "2024-01-29T05:40:33.538825",
     "exception": false,
     "start_time": "2024-01-29T05:40:33.511217",
     "status": "completed"
    },
    "tags": []
   },
   "outputs": [
    {
     "data": {
      "text/plain": [
       "name                0\n",
       "main_category       0\n",
       "sub_category        0\n",
       "image               0\n",
       "link                0\n",
       "ratings            14\n",
       "no_of_ratings      14\n",
       "discount_price    201\n",
       "actual_price        6\n",
       "dtype: int64"
      ]
     },
     "execution_count": 7,
     "metadata": {},
     "output_type": "execute_result"
    }
   ],
   "source": [
    "df.isna().sum()"
   ]
  },
  {
   "cell_type": "code",
   "execution_count": 8,
   "id": "44ed4a6c",
   "metadata": {
    "execution": {
     "iopub.execute_input": "2024-01-29T05:40:33.565496Z",
     "iopub.status.busy": "2024-01-29T05:40:33.564177Z",
     "iopub.status.idle": "2024-01-29T05:40:33.578670Z",
     "shell.execute_reply": "2024-01-29T05:40:33.577407Z"
    },
    "papermill": {
     "duration": 0.030622,
     "end_time": "2024-01-29T05:40:33.581351",
     "exception": false,
     "start_time": "2024-01-29T05:40:33.550729",
     "status": "completed"
    },
    "tags": []
   },
   "outputs": [
    {
     "data": {
      "text/plain": [
       "0"
      ]
     },
     "execution_count": 8,
     "metadata": {},
     "output_type": "execute_result"
    }
   ],
   "source": [
    "df.duplicated().sum()"
   ]
  },
  {
   "cell_type": "markdown",
   "id": "afdb62c0",
   "metadata": {
    "papermill": {
     "duration": 0.011597,
     "end_time": "2024-01-29T05:40:33.604605",
     "exception": false,
     "start_time": "2024-01-29T05:40:33.593008",
     "status": "completed"
    },
    "tags": []
   },
   "source": [
    "# 1. Data Cleaning"
   ]
  },
  {
   "cell_type": "markdown",
   "id": "03e4bf97",
   "metadata": {
    "papermill": {
     "duration": 0.011851,
     "end_time": "2024-01-29T05:40:33.628270",
     "exception": false,
     "start_time": "2024-01-29T05:40:33.616419",
     "status": "completed"
    },
    "tags": []
   },
   "source": [
    "**1.1 formating table**"
   ]
  },
  {
   "cell_type": "code",
   "execution_count": 9,
   "id": "84c1169f",
   "metadata": {
    "execution": {
     "iopub.execute_input": "2024-01-29T05:40:33.655047Z",
     "iopub.status.busy": "2024-01-29T05:40:33.654062Z",
     "iopub.status.idle": "2024-01-29T05:40:33.664326Z",
     "shell.execute_reply": "2024-01-29T05:40:33.663275Z"
    },
    "papermill": {
     "duration": 0.026082,
     "end_time": "2024-01-29T05:40:33.666796",
     "exception": false,
     "start_time": "2024-01-29T05:40:33.640714",
     "status": "completed"
    },
    "tags": []
   },
   "outputs": [
    {
     "data": {
      "text/plain": [
       "array(['3.9', '4.3', '4.4', '4.0', '4.5', '4.1', '4.2', nan, '4.6', '3.4',\n",
       "       '3.8', '3.7', '3.5', '4.8', '5.0', '2.5', '3.6', '3.0', '2.8',\n",
       "       '3.2', '4.7', '3.1', '3.3', '4.9', '2.0', 'Get', '2.9'],\n",
       "      dtype=object)"
      ]
     },
     "execution_count": 9,
     "metadata": {},
     "output_type": "execute_result"
    }
   ],
   "source": [
    "df['ratings'].unique()"
   ]
  },
  {
   "cell_type": "code",
   "execution_count": 10,
   "id": "0aa96414",
   "metadata": {
    "execution": {
     "iopub.execute_input": "2024-01-29T05:40:33.693413Z",
     "iopub.status.busy": "2024-01-29T05:40:33.692523Z",
     "iopub.status.idle": "2024-01-29T05:40:33.707436Z",
     "shell.execute_reply": "2024-01-29T05:40:33.706211Z"
    },
    "papermill": {
     "duration": 0.031797,
     "end_time": "2024-01-29T05:40:33.710498",
     "exception": false,
     "start_time": "2024-01-29T05:40:33.678701",
     "status": "completed"
    },
    "tags": []
   },
   "outputs": [
    {
     "data": {
      "text/plain": [
       "<bound method Series.info of 0      3.9\n",
       "1      4.3\n",
       "2      4.3\n",
       "3      4.3\n",
       "4      4.4\n",
       "      ... \n",
       "955    4.3\n",
       "956    4.2\n",
       "957    4.3\n",
       "958    4.4\n",
       "959    4.0\n",
       "Name: ratings, Length: 960, dtype: float64>"
      ]
     },
     "execution_count": 10,
     "metadata": {},
     "output_type": "execute_result"
    }
   ],
   "source": [
    "df['ratings'] = df['ratings'].replace('Get', 0)\n",
    "df['ratings'] = df['ratings'].astype(float)\n",
    "df['ratings'].info"
   ]
  },
  {
   "cell_type": "code",
   "execution_count": 11,
   "id": "59fce7ad",
   "metadata": {
    "execution": {
     "iopub.execute_input": "2024-01-29T05:40:33.738188Z",
     "iopub.status.busy": "2024-01-29T05:40:33.737290Z",
     "iopub.status.idle": "2024-01-29T05:40:33.752868Z",
     "shell.execute_reply": "2024-01-29T05:40:33.751639Z"
    },
    "papermill": {
     "duration": 0.032642,
     "end_time": "2024-01-29T05:40:33.755853",
     "exception": false,
     "start_time": "2024-01-29T05:40:33.723211",
     "status": "completed"
    },
    "tags": []
   },
   "outputs": [
    {
     "data": {
      "text/plain": [
       "<bound method Series.info of 0       6081.0\n",
       "1       8481.0\n",
       "2       1585.0\n",
       "3       3907.0\n",
       "4      15528.0\n",
       "        ...   \n",
       "955      121.0\n",
       "956      128.0\n",
       "957      804.0\n",
       "958       86.0\n",
       "959     1438.0\n",
       "Name: no_of_ratings, Length: 960, dtype: float64>"
      ]
     },
     "execution_count": 11,
     "metadata": {},
     "output_type": "execute_result"
    }
   ],
   "source": [
    "df['no_of_ratings'] = df['no_of_ratings'].replace('FREE Delivery by Amazon', 0)\n",
    "df['no_of_ratings'] = df['no_of_ratings'].str.replace(',', '')\n",
    "df['no_of_ratings'] = df['no_of_ratings'].astype(float)\n",
    "df['no_of_ratings'].info"
   ]
  },
  {
   "cell_type": "code",
   "execution_count": 12,
   "id": "defd6ab7",
   "metadata": {
    "execution": {
     "iopub.execute_input": "2024-01-29T05:40:33.783437Z",
     "iopub.status.busy": "2024-01-29T05:40:33.782474Z",
     "iopub.status.idle": "2024-01-29T05:40:33.806020Z",
     "shell.execute_reply": "2024-01-29T05:40:33.804158Z"
    },
    "papermill": {
     "duration": 0.040325,
     "end_time": "2024-01-29T05:40:33.808769",
     "exception": false,
     "start_time": "2024-01-29T05:40:33.768444",
     "status": "completed"
    },
    "tags": []
   },
   "outputs": [
    {
     "name": "stdout",
     "output_type": "stream",
     "text": [
      "<class 'pandas.core.frame.DataFrame'>\n",
      "RangeIndex: 960 entries, 0 to 959\n",
      "Data columns (total 2 columns):\n",
      " #   Column          Non-Null Count  Dtype  \n",
      "---  ------          --------------  -----  \n",
      " 0   discount_price  759 non-null    float64\n",
      " 1   actual_price    954 non-null    float64\n",
      "dtypes: float64(2)\n",
      "memory usage: 15.1 KB\n"
     ]
    }
   ],
   "source": [
    "df[['discount_price', 'actual_price']] = df[['discount_price', 'actual_price']].replace('[₹,]', '', regex=True).astype(float)\n",
    "df[['discount_price', 'actual_price']].info()"
   ]
  },
  {
   "cell_type": "code",
   "execution_count": 13,
   "id": "9650d3e4",
   "metadata": {
    "execution": {
     "iopub.execute_input": "2024-01-29T05:40:33.836680Z",
     "iopub.status.busy": "2024-01-29T05:40:33.835827Z",
     "iopub.status.idle": "2024-01-29T05:40:33.853141Z",
     "shell.execute_reply": "2024-01-29T05:40:33.851215Z"
    },
    "papermill": {
     "duration": 0.034386,
     "end_time": "2024-01-29T05:40:33.856029",
     "exception": false,
     "start_time": "2024-01-29T05:40:33.821643",
     "status": "completed"
    },
    "tags": []
   },
   "outputs": [
    {
     "name": "stdout",
     "output_type": "stream",
     "text": [
      "<class 'pandas.core.frame.DataFrame'>\n",
      "RangeIndex: 960 entries, 0 to 959\n",
      "Data columns (total 9 columns):\n",
      " #   Column          Non-Null Count  Dtype  \n",
      "---  ------          --------------  -----  \n",
      " 0   name            960 non-null    object \n",
      " 1   main_category   960 non-null    object \n",
      " 2   sub_category    960 non-null    object \n",
      " 3   image           960 non-null    object \n",
      " 4   link            960 non-null    object \n",
      " 5   ratings         946 non-null    float64\n",
      " 6   no_of_ratings   945 non-null    float64\n",
      " 7   discount_price  759 non-null    float64\n",
      " 8   actual_price    954 non-null    float64\n",
      "dtypes: float64(4), object(5)\n",
      "memory usage: 67.6+ KB\n"
     ]
    }
   ],
   "source": [
    "df.info()"
   ]
  },
  {
   "cell_type": "markdown",
   "id": "a9bc0245",
   "metadata": {
    "papermill": {
     "duration": 0.013849,
     "end_time": "2024-01-29T05:40:33.882623",
     "exception": false,
     "start_time": "2024-01-29T05:40:33.868774",
     "status": "completed"
    },
    "tags": []
   },
   "source": [
    "**1.2 Missing Values**"
   ]
  },
  {
   "cell_type": "code",
   "execution_count": 14,
   "id": "453a8670",
   "metadata": {
    "execution": {
     "iopub.execute_input": "2024-01-29T05:40:33.913888Z",
     "iopub.status.busy": "2024-01-29T05:40:33.913124Z",
     "iopub.status.idle": "2024-01-29T05:40:33.923896Z",
     "shell.execute_reply": "2024-01-29T05:40:33.922728Z"
    },
    "papermill": {
     "duration": 0.029557,
     "end_time": "2024-01-29T05:40:33.926708",
     "exception": false,
     "start_time": "2024-01-29T05:40:33.897151",
     "status": "completed"
    },
    "tags": []
   },
   "outputs": [
    {
     "data": {
      "text/plain": [
       "name                0\n",
       "main_category       0\n",
       "sub_category        0\n",
       "image               0\n",
       "link                0\n",
       "ratings            14\n",
       "no_of_ratings      15\n",
       "discount_price    201\n",
       "actual_price        6\n",
       "dtype: int64"
      ]
     },
     "execution_count": 14,
     "metadata": {},
     "output_type": "execute_result"
    }
   ],
   "source": [
    "df.isna().sum()"
   ]
  },
  {
   "cell_type": "code",
   "execution_count": 15,
   "id": "8e2b2492",
   "metadata": {
    "execution": {
     "iopub.execute_input": "2024-01-29T05:40:33.954387Z",
     "iopub.status.busy": "2024-01-29T05:40:33.953847Z",
     "iopub.status.idle": "2024-01-29T05:40:33.986916Z",
     "shell.execute_reply": "2024-01-29T05:40:33.985476Z"
    },
    "papermill": {
     "duration": 0.050856,
     "end_time": "2024-01-29T05:40:33.990156",
     "exception": false,
     "start_time": "2024-01-29T05:40:33.939300",
     "status": "completed"
    },
    "tags": []
   },
   "outputs": [
    {
     "data": {
      "text/html": [
       "<div>\n",
       "<style scoped>\n",
       "    .dataframe tbody tr th:only-of-type {\n",
       "        vertical-align: middle;\n",
       "    }\n",
       "\n",
       "    .dataframe tbody tr th {\n",
       "        vertical-align: top;\n",
       "    }\n",
       "\n",
       "    .dataframe thead th {\n",
       "        text-align: right;\n",
       "    }\n",
       "</style>\n",
       "<table border=\"1\" class=\"dataframe\">\n",
       "  <thead>\n",
       "    <tr style=\"text-align: right;\">\n",
       "      <th></th>\n",
       "      <th>ratings</th>\n",
       "      <th>no_of_ratings</th>\n",
       "      <th>discount_price</th>\n",
       "      <th>actual_price</th>\n",
       "    </tr>\n",
       "  </thead>\n",
       "  <tbody>\n",
       "    <tr>\n",
       "      <th>count</th>\n",
       "      <td>946.0</td>\n",
       "      <td>945.0</td>\n",
       "      <td>759.0</td>\n",
       "      <td>954.0</td>\n",
       "    </tr>\n",
       "    <tr>\n",
       "      <th>mean</th>\n",
       "      <td>4.0</td>\n",
       "      <td>872.0</td>\n",
       "      <td>387.0</td>\n",
       "      <td>511.0</td>\n",
       "    </tr>\n",
       "    <tr>\n",
       "      <th>std</th>\n",
       "      <td>0.0</td>\n",
       "      <td>1513.0</td>\n",
       "      <td>681.0</td>\n",
       "      <td>1393.0</td>\n",
       "    </tr>\n",
       "    <tr>\n",
       "      <th>min</th>\n",
       "      <td>0.0</td>\n",
       "      <td>1.0</td>\n",
       "      <td>9.0</td>\n",
       "      <td>10.0</td>\n",
       "    </tr>\n",
       "    <tr>\n",
       "      <th>25%</th>\n",
       "      <td>4.0</td>\n",
       "      <td>115.0</td>\n",
       "      <td>152.0</td>\n",
       "      <td>171.0</td>\n",
       "    </tr>\n",
       "    <tr>\n",
       "      <th>50%</th>\n",
       "      <td>4.0</td>\n",
       "      <td>338.0</td>\n",
       "      <td>250.0</td>\n",
       "      <td>299.0</td>\n",
       "    </tr>\n",
       "    <tr>\n",
       "      <th>75%</th>\n",
       "      <td>4.0</td>\n",
       "      <td>922.0</td>\n",
       "      <td>420.0</td>\n",
       "      <td>508.0</td>\n",
       "    </tr>\n",
       "    <tr>\n",
       "      <th>max</th>\n",
       "      <td>5.0</td>\n",
       "      <td>15528.0</td>\n",
       "      <td>13899.0</td>\n",
       "      <td>38000.0</td>\n",
       "    </tr>\n",
       "  </tbody>\n",
       "</table>\n",
       "</div>"
      ],
      "text/plain": [
       "       ratings  no_of_ratings  discount_price  actual_price\n",
       "count    946.0          945.0           759.0         954.0\n",
       "mean       4.0          872.0           387.0         511.0\n",
       "std        0.0         1513.0           681.0        1393.0\n",
       "min        0.0            1.0             9.0          10.0\n",
       "25%        4.0          115.0           152.0         171.0\n",
       "50%        4.0          338.0           250.0         299.0\n",
       "75%        4.0          922.0           420.0         508.0\n",
       "max        5.0        15528.0         13899.0       38000.0"
      ]
     },
     "execution_count": 15,
     "metadata": {},
     "output_type": "execute_result"
    }
   ],
   "source": [
    "df.describe().round()"
   ]
  },
  {
   "cell_type": "code",
   "execution_count": 16,
   "id": "17e68a9d",
   "metadata": {
    "execution": {
     "iopub.execute_input": "2024-01-29T05:40:34.022170Z",
     "iopub.status.busy": "2024-01-29T05:40:34.021653Z",
     "iopub.status.idle": "2024-01-29T05:40:34.032626Z",
     "shell.execute_reply": "2024-01-29T05:40:34.031277Z"
    },
    "papermill": {
     "duration": 0.030386,
     "end_time": "2024-01-29T05:40:34.035398",
     "exception": false,
     "start_time": "2024-01-29T05:40:34.005012",
     "status": "completed"
    },
    "tags": []
   },
   "outputs": [
    {
     "data": {
      "text/plain": [
       "0"
      ]
     },
     "execution_count": 16,
     "metadata": {},
     "output_type": "execute_result"
    }
   ],
   "source": [
    "min_ratings = df['ratings'].min()\n",
    "df['ratings']=df['ratings'].fillna(min_ratings)\n",
    "df['ratings'].isna().sum()"
   ]
  },
  {
   "cell_type": "code",
   "execution_count": 17,
   "id": "8ba80d62",
   "metadata": {
    "execution": {
     "iopub.execute_input": "2024-01-29T05:40:34.065820Z",
     "iopub.status.busy": "2024-01-29T05:40:34.065310Z",
     "iopub.status.idle": "2024-01-29T05:40:34.076485Z",
     "shell.execute_reply": "2024-01-29T05:40:34.075205Z"
    },
    "papermill": {
     "duration": 0.030031,
     "end_time": "2024-01-29T05:40:34.079709",
     "exception": false,
     "start_time": "2024-01-29T05:40:34.049678",
     "status": "completed"
    },
    "tags": []
   },
   "outputs": [
    {
     "data": {
      "text/plain": [
       "0"
      ]
     },
     "execution_count": 17,
     "metadata": {},
     "output_type": "execute_result"
    }
   ],
   "source": [
    "min_no_of_ratings = df['no_of_ratings'].min()\n",
    "df['no_of_ratings']=df['no_of_ratings'].fillna(min_no_of_ratings)\n",
    "df['no_of_ratings'].isna().sum()"
   ]
  },
  {
   "cell_type": "code",
   "execution_count": 18,
   "id": "f307ac6e",
   "metadata": {
    "execution": {
     "iopub.execute_input": "2024-01-29T05:40:34.110578Z",
     "iopub.status.busy": "2024-01-29T05:40:34.110135Z",
     "iopub.status.idle": "2024-01-29T05:40:34.120370Z",
     "shell.execute_reply": "2024-01-29T05:40:34.119323Z"
    },
    "papermill": {
     "duration": 0.028826,
     "end_time": "2024-01-29T05:40:34.122710",
     "exception": false,
     "start_time": "2024-01-29T05:40:34.093884",
     "status": "completed"
    },
    "tags": []
   },
   "outputs": [
    {
     "data": {
      "text/plain": [
       "6"
      ]
     },
     "execution_count": 18,
     "metadata": {},
     "output_type": "execute_result"
    }
   ],
   "source": [
    "df['discount_price'].fillna(df['actual_price'], inplace=True)\n",
    "df['discount_price'].isna().sum()"
   ]
  },
  {
   "cell_type": "code",
   "execution_count": 19,
   "id": "683afa1f",
   "metadata": {
    "execution": {
     "iopub.execute_input": "2024-01-29T05:40:34.151672Z",
     "iopub.status.busy": "2024-01-29T05:40:34.151190Z",
     "iopub.status.idle": "2024-01-29T05:40:34.162336Z",
     "shell.execute_reply": "2024-01-29T05:40:34.161032Z"
    },
    "papermill": {
     "duration": 0.028711,
     "end_time": "2024-01-29T05:40:34.164895",
     "exception": false,
     "start_time": "2024-01-29T05:40:34.136184",
     "status": "completed"
    },
    "tags": []
   },
   "outputs": [
    {
     "data": {
      "text/plain": [
       "0"
      ]
     },
     "execution_count": 19,
     "metadata": {},
     "output_type": "execute_result"
    }
   ],
   "source": [
    "min_actual=df['actual_price'].min()\n",
    "df['actual_price'] = df['actual_price'].fillna(min_actual)\n",
    "df['actual_price'].isna().sum()"
   ]
  },
  {
   "cell_type": "code",
   "execution_count": 20,
   "id": "0dc28e80",
   "metadata": {
    "execution": {
     "iopub.execute_input": "2024-01-29T05:40:34.194781Z",
     "iopub.status.busy": "2024-01-29T05:40:34.194293Z",
     "iopub.status.idle": "2024-01-29T05:40:34.216056Z",
     "shell.execute_reply": "2024-01-29T05:40:34.214756Z"
    },
    "papermill": {
     "duration": 0.040286,
     "end_time": "2024-01-29T05:40:34.218802",
     "exception": false,
     "start_time": "2024-01-29T05:40:34.178516",
     "status": "completed"
    },
    "tags": []
   },
   "outputs": [
    {
     "data": {
      "text/html": [
       "<div>\n",
       "<style scoped>\n",
       "    .dataframe tbody tr th:only-of-type {\n",
       "        vertical-align: middle;\n",
       "    }\n",
       "\n",
       "    .dataframe tbody tr th {\n",
       "        vertical-align: top;\n",
       "    }\n",
       "\n",
       "    .dataframe thead th {\n",
       "        text-align: right;\n",
       "    }\n",
       "</style>\n",
       "<table border=\"1\" class=\"dataframe\">\n",
       "  <thead>\n",
       "    <tr style=\"text-align: right;\">\n",
       "      <th></th>\n",
       "      <th>name</th>\n",
       "      <th>main_category</th>\n",
       "      <th>sub_category</th>\n",
       "      <th>image</th>\n",
       "      <th>link</th>\n",
       "      <th>ratings</th>\n",
       "      <th>no_of_ratings</th>\n",
       "      <th>discount_price</th>\n",
       "      <th>actual_price</th>\n",
       "    </tr>\n",
       "  </thead>\n",
       "  <tbody>\n",
       "    <tr>\n",
       "      <th>0</th>\n",
       "      <td>Nutraj 100% Natural Dried Premium California W...</td>\n",
       "      <td>grocery &amp; gourmet foods</td>\n",
       "      <td>All Grocery &amp; Gourmet Foods</td>\n",
       "      <td>https://m.media-amazon.com/images/I/71f5UPOWDq...</td>\n",
       "      <td>https://www.amazon.in/Nutraj-California-Walnut...</td>\n",
       "      <td>3.9</td>\n",
       "      <td>6081.0</td>\n",
       "      <td>686.0</td>\n",
       "      <td>998.0</td>\n",
       "    </tr>\n",
       "    <tr>\n",
       "      <th>1</th>\n",
       "      <td>Cadbury Bournvita 5 Star Magic Health Drink, 7...</td>\n",
       "      <td>grocery &amp; gourmet foods</td>\n",
       "      <td>All Grocery &amp; Gourmet Foods</td>\n",
       "      <td>https://m.media-amazon.com/images/I/614FIW5c6H...</td>\n",
       "      <td>https://www.amazon.in/Bournvita-Magic-Chocolat...</td>\n",
       "      <td>4.3</td>\n",
       "      <td>8481.0</td>\n",
       "      <td>353.0</td>\n",
       "      <td>353.0</td>\n",
       "    </tr>\n",
       "    <tr>\n",
       "      <th>2</th>\n",
       "      <td>Sugar Free Green Natural Stevia Jar(200 g)</td>\n",
       "      <td>grocery &amp; gourmet foods</td>\n",
       "      <td>All Grocery &amp; Gourmet Foods</td>\n",
       "      <td>https://m.media-amazon.com/images/I/61rBhkTJ6E...</td>\n",
       "      <td>https://www.amazon.in/Sugarfree-Green-100-Natu...</td>\n",
       "      <td>4.3</td>\n",
       "      <td>1585.0</td>\n",
       "      <td>162.0</td>\n",
       "      <td>170.0</td>\n",
       "    </tr>\n",
       "    <tr>\n",
       "      <th>3</th>\n",
       "      <td>Daawat Pulav, Long Grains, Fluffy Basmati for ...</td>\n",
       "      <td>grocery &amp; gourmet foods</td>\n",
       "      <td>All Grocery &amp; Gourmet Foods</td>\n",
       "      <td>https://m.media-amazon.com/images/I/71UO6eXC1Q...</td>\n",
       "      <td>https://www.amazon.in/Daawat-Pulav-Basmati-Ric...</td>\n",
       "      <td>4.3</td>\n",
       "      <td>3907.0</td>\n",
       "      <td>138.0</td>\n",
       "      <td>139.0</td>\n",
       "    </tr>\n",
       "    <tr>\n",
       "      <th>4</th>\n",
       "      <td>Tata Tea Gold | Assam teas with Gently Rolled ...</td>\n",
       "      <td>grocery &amp; gourmet foods</td>\n",
       "      <td>All Grocery &amp; Gourmet Foods</td>\n",
       "      <td>https://m.media-amazon.com/images/I/51kEujuYlp...</td>\n",
       "      <td>https://www.amazon.in/Tata-Tea-Gold-500g/dp/B0...</td>\n",
       "      <td>4.4</td>\n",
       "      <td>15528.0</td>\n",
       "      <td>283.0</td>\n",
       "      <td>295.0</td>\n",
       "    </tr>\n",
       "  </tbody>\n",
       "</table>\n",
       "</div>"
      ],
      "text/plain": [
       "                                                name            main_category  \\\n",
       "0  Nutraj 100% Natural Dried Premium California W...  grocery & gourmet foods   \n",
       "1  Cadbury Bournvita 5 Star Magic Health Drink, 7...  grocery & gourmet foods   \n",
       "2         Sugar Free Green Natural Stevia Jar(200 g)  grocery & gourmet foods   \n",
       "3  Daawat Pulav, Long Grains, Fluffy Basmati for ...  grocery & gourmet foods   \n",
       "4  Tata Tea Gold | Assam teas with Gently Rolled ...  grocery & gourmet foods   \n",
       "\n",
       "                  sub_category  \\\n",
       "0  All Grocery & Gourmet Foods   \n",
       "1  All Grocery & Gourmet Foods   \n",
       "2  All Grocery & Gourmet Foods   \n",
       "3  All Grocery & Gourmet Foods   \n",
       "4  All Grocery & Gourmet Foods   \n",
       "\n",
       "                                               image  \\\n",
       "0  https://m.media-amazon.com/images/I/71f5UPOWDq...   \n",
       "1  https://m.media-amazon.com/images/I/614FIW5c6H...   \n",
       "2  https://m.media-amazon.com/images/I/61rBhkTJ6E...   \n",
       "3  https://m.media-amazon.com/images/I/71UO6eXC1Q...   \n",
       "4  https://m.media-amazon.com/images/I/51kEujuYlp...   \n",
       "\n",
       "                                                link  ratings  no_of_ratings  \\\n",
       "0  https://www.amazon.in/Nutraj-California-Walnut...      3.9         6081.0   \n",
       "1  https://www.amazon.in/Bournvita-Magic-Chocolat...      4.3         8481.0   \n",
       "2  https://www.amazon.in/Sugarfree-Green-100-Natu...      4.3         1585.0   \n",
       "3  https://www.amazon.in/Daawat-Pulav-Basmati-Ric...      4.3         3907.0   \n",
       "4  https://www.amazon.in/Tata-Tea-Gold-500g/dp/B0...      4.4        15528.0   \n",
       "\n",
       "   discount_price  actual_price  \n",
       "0           686.0         998.0  \n",
       "1           353.0         353.0  \n",
       "2           162.0         170.0  \n",
       "3           138.0         139.0  \n",
       "4           283.0         295.0  "
      ]
     },
     "execution_count": 20,
     "metadata": {},
     "output_type": "execute_result"
    }
   ],
   "source": [
    "df.head()"
   ]
  },
  {
   "cell_type": "markdown",
   "id": "03787963",
   "metadata": {
    "papermill": {
     "duration": 0.01372,
     "end_time": "2024-01-29T05:40:34.247016",
     "exception": false,
     "start_time": "2024-01-29T05:40:34.233296",
     "status": "completed"
    },
    "tags": []
   },
   "source": [
    "# 2. Exploratory Data Analysis (EDA)"
   ]
  },
  {
   "cell_type": "code",
   "execution_count": 21,
   "id": "7163ec4b",
   "metadata": {
    "execution": {
     "iopub.execute_input": "2024-01-29T05:40:34.278764Z",
     "iopub.status.busy": "2024-01-29T05:40:34.278263Z",
     "iopub.status.idle": "2024-01-29T05:40:34.306015Z",
     "shell.execute_reply": "2024-01-29T05:40:34.304717Z"
    },
    "papermill": {
     "duration": 0.047198,
     "end_time": "2024-01-29T05:40:34.308809",
     "exception": false,
     "start_time": "2024-01-29T05:40:34.261611",
     "status": "completed"
    },
    "tags": []
   },
   "outputs": [
    {
     "data": {
      "text/html": [
       "<div>\n",
       "<style scoped>\n",
       "    .dataframe tbody tr th:only-of-type {\n",
       "        vertical-align: middle;\n",
       "    }\n",
       "\n",
       "    .dataframe tbody tr th {\n",
       "        vertical-align: top;\n",
       "    }\n",
       "\n",
       "    .dataframe thead th {\n",
       "        text-align: right;\n",
       "    }\n",
       "</style>\n",
       "<table border=\"1\" class=\"dataframe\">\n",
       "  <thead>\n",
       "    <tr style=\"text-align: right;\">\n",
       "      <th></th>\n",
       "      <th>ratings</th>\n",
       "      <th>no_of_ratings</th>\n",
       "      <th>discount_price</th>\n",
       "      <th>actual_price</th>\n",
       "    </tr>\n",
       "  </thead>\n",
       "  <tbody>\n",
       "    <tr>\n",
       "      <th>count</th>\n",
       "      <td>960.000000</td>\n",
       "      <td>960.000000</td>\n",
       "      <td>954.000000</td>\n",
       "      <td>960.000000</td>\n",
       "    </tr>\n",
       "    <tr>\n",
       "      <th>mean</th>\n",
       "      <td>4.111042</td>\n",
       "      <td>858.484375</td>\n",
       "      <td>358.693512</td>\n",
       "      <td>507.543750</td>\n",
       "    </tr>\n",
       "    <tr>\n",
       "      <th>std</th>\n",
       "      <td>0.604539</td>\n",
       "      <td>1505.403075</td>\n",
       "      <td>625.422304</td>\n",
       "      <td>1389.206334</td>\n",
       "    </tr>\n",
       "    <tr>\n",
       "      <th>min</th>\n",
       "      <td>0.000000</td>\n",
       "      <td>1.000000</td>\n",
       "      <td>9.000000</td>\n",
       "      <td>10.000000</td>\n",
       "    </tr>\n",
       "    <tr>\n",
       "      <th>25%</th>\n",
       "      <td>4.000000</td>\n",
       "      <td>109.000000</td>\n",
       "      <td>148.000000</td>\n",
       "      <td>170.000000</td>\n",
       "    </tr>\n",
       "    <tr>\n",
       "      <th>50%</th>\n",
       "      <td>4.200000</td>\n",
       "      <td>329.000000</td>\n",
       "      <td>241.000000</td>\n",
       "      <td>299.000000</td>\n",
       "    </tr>\n",
       "    <tr>\n",
       "      <th>75%</th>\n",
       "      <td>4.300000</td>\n",
       "      <td>906.000000</td>\n",
       "      <td>395.000000</td>\n",
       "      <td>500.000000</td>\n",
       "    </tr>\n",
       "    <tr>\n",
       "      <th>max</th>\n",
       "      <td>5.000000</td>\n",
       "      <td>15528.000000</td>\n",
       "      <td>13899.000000</td>\n",
       "      <td>38000.000000</td>\n",
       "    </tr>\n",
       "  </tbody>\n",
       "</table>\n",
       "</div>"
      ],
      "text/plain": [
       "          ratings  no_of_ratings  discount_price  actual_price\n",
       "count  960.000000     960.000000      954.000000    960.000000\n",
       "mean     4.111042     858.484375      358.693512    507.543750\n",
       "std      0.604539    1505.403075      625.422304   1389.206334\n",
       "min      0.000000       1.000000        9.000000     10.000000\n",
       "25%      4.000000     109.000000      148.000000    170.000000\n",
       "50%      4.200000     329.000000      241.000000    299.000000\n",
       "75%      4.300000     906.000000      395.000000    500.000000\n",
       "max      5.000000   15528.000000    13899.000000  38000.000000"
      ]
     },
     "execution_count": 21,
     "metadata": {},
     "output_type": "execute_result"
    }
   ],
   "source": [
    "df.describe()"
   ]
  },
  {
   "cell_type": "code",
   "execution_count": 22,
   "id": "c5425b71",
   "metadata": {
    "execution": {
     "iopub.execute_input": "2024-01-29T05:40:34.339672Z",
     "iopub.status.busy": "2024-01-29T05:40:34.339147Z",
     "iopub.status.idle": "2024-01-29T05:40:34.365182Z",
     "shell.execute_reply": "2024-01-29T05:40:34.364141Z"
    },
    "papermill": {
     "duration": 0.045097,
     "end_time": "2024-01-29T05:40:34.368311",
     "exception": false,
     "start_time": "2024-01-29T05:40:34.323214",
     "status": "completed"
    },
    "tags": []
   },
   "outputs": [
    {
     "data": {
      "text/html": [
       "<div>\n",
       "<style scoped>\n",
       "    .dataframe tbody tr th:only-of-type {\n",
       "        vertical-align: middle;\n",
       "    }\n",
       "\n",
       "    .dataframe tbody tr th {\n",
       "        vertical-align: top;\n",
       "    }\n",
       "\n",
       "    .dataframe thead th {\n",
       "        text-align: right;\n",
       "    }\n",
       "</style>\n",
       "<table border=\"1\" class=\"dataframe\">\n",
       "  <thead>\n",
       "    <tr style=\"text-align: right;\">\n",
       "      <th></th>\n",
       "      <th>name</th>\n",
       "      <th>main_category</th>\n",
       "      <th>sub_category</th>\n",
       "      <th>image</th>\n",
       "      <th>link</th>\n",
       "      <th>ratings</th>\n",
       "      <th>no_of_ratings</th>\n",
       "      <th>discount_price</th>\n",
       "      <th>actual_price</th>\n",
       "      <th>discount</th>\n",
       "      <th>discount%</th>\n",
       "    </tr>\n",
       "  </thead>\n",
       "  <tbody>\n",
       "    <tr>\n",
       "      <th>0</th>\n",
       "      <td>Nutraj 100% Natural Dried Premium California W...</td>\n",
       "      <td>grocery &amp; gourmet foods</td>\n",
       "      <td>All Grocery &amp; Gourmet Foods</td>\n",
       "      <td>https://m.media-amazon.com/images/I/71f5UPOWDq...</td>\n",
       "      <td>https://www.amazon.in/Nutraj-California-Walnut...</td>\n",
       "      <td>3.9</td>\n",
       "      <td>6081.0</td>\n",
       "      <td>686.0</td>\n",
       "      <td>998.0</td>\n",
       "      <td>312.0</td>\n",
       "      <td>31.26</td>\n",
       "    </tr>\n",
       "    <tr>\n",
       "      <th>1</th>\n",
       "      <td>Cadbury Bournvita 5 Star Magic Health Drink, 7...</td>\n",
       "      <td>grocery &amp; gourmet foods</td>\n",
       "      <td>All Grocery &amp; Gourmet Foods</td>\n",
       "      <td>https://m.media-amazon.com/images/I/614FIW5c6H...</td>\n",
       "      <td>https://www.amazon.in/Bournvita-Magic-Chocolat...</td>\n",
       "      <td>4.3</td>\n",
       "      <td>8481.0</td>\n",
       "      <td>353.0</td>\n",
       "      <td>353.0</td>\n",
       "      <td>0.0</td>\n",
       "      <td>0.00</td>\n",
       "    </tr>\n",
       "    <tr>\n",
       "      <th>2</th>\n",
       "      <td>Sugar Free Green Natural Stevia Jar(200 g)</td>\n",
       "      <td>grocery &amp; gourmet foods</td>\n",
       "      <td>All Grocery &amp; Gourmet Foods</td>\n",
       "      <td>https://m.media-amazon.com/images/I/61rBhkTJ6E...</td>\n",
       "      <td>https://www.amazon.in/Sugarfree-Green-100-Natu...</td>\n",
       "      <td>4.3</td>\n",
       "      <td>1585.0</td>\n",
       "      <td>162.0</td>\n",
       "      <td>170.0</td>\n",
       "      <td>8.0</td>\n",
       "      <td>4.71</td>\n",
       "    </tr>\n",
       "    <tr>\n",
       "      <th>3</th>\n",
       "      <td>Daawat Pulav, Long Grains, Fluffy Basmati for ...</td>\n",
       "      <td>grocery &amp; gourmet foods</td>\n",
       "      <td>All Grocery &amp; Gourmet Foods</td>\n",
       "      <td>https://m.media-amazon.com/images/I/71UO6eXC1Q...</td>\n",
       "      <td>https://www.amazon.in/Daawat-Pulav-Basmati-Ric...</td>\n",
       "      <td>4.3</td>\n",
       "      <td>3907.0</td>\n",
       "      <td>138.0</td>\n",
       "      <td>139.0</td>\n",
       "      <td>1.0</td>\n",
       "      <td>0.72</td>\n",
       "    </tr>\n",
       "    <tr>\n",
       "      <th>4</th>\n",
       "      <td>Tata Tea Gold | Assam teas with Gently Rolled ...</td>\n",
       "      <td>grocery &amp; gourmet foods</td>\n",
       "      <td>All Grocery &amp; Gourmet Foods</td>\n",
       "      <td>https://m.media-amazon.com/images/I/51kEujuYlp...</td>\n",
       "      <td>https://www.amazon.in/Tata-Tea-Gold-500g/dp/B0...</td>\n",
       "      <td>4.4</td>\n",
       "      <td>15528.0</td>\n",
       "      <td>283.0</td>\n",
       "      <td>295.0</td>\n",
       "      <td>12.0</td>\n",
       "      <td>4.07</td>\n",
       "    </tr>\n",
       "  </tbody>\n",
       "</table>\n",
       "</div>"
      ],
      "text/plain": [
       "                                                name            main_category  \\\n",
       "0  Nutraj 100% Natural Dried Premium California W...  grocery & gourmet foods   \n",
       "1  Cadbury Bournvita 5 Star Magic Health Drink, 7...  grocery & gourmet foods   \n",
       "2         Sugar Free Green Natural Stevia Jar(200 g)  grocery & gourmet foods   \n",
       "3  Daawat Pulav, Long Grains, Fluffy Basmati for ...  grocery & gourmet foods   \n",
       "4  Tata Tea Gold | Assam teas with Gently Rolled ...  grocery & gourmet foods   \n",
       "\n",
       "                  sub_category  \\\n",
       "0  All Grocery & Gourmet Foods   \n",
       "1  All Grocery & Gourmet Foods   \n",
       "2  All Grocery & Gourmet Foods   \n",
       "3  All Grocery & Gourmet Foods   \n",
       "4  All Grocery & Gourmet Foods   \n",
       "\n",
       "                                               image  \\\n",
       "0  https://m.media-amazon.com/images/I/71f5UPOWDq...   \n",
       "1  https://m.media-amazon.com/images/I/614FIW5c6H...   \n",
       "2  https://m.media-amazon.com/images/I/61rBhkTJ6E...   \n",
       "3  https://m.media-amazon.com/images/I/71UO6eXC1Q...   \n",
       "4  https://m.media-amazon.com/images/I/51kEujuYlp...   \n",
       "\n",
       "                                                link  ratings  no_of_ratings  \\\n",
       "0  https://www.amazon.in/Nutraj-California-Walnut...      3.9         6081.0   \n",
       "1  https://www.amazon.in/Bournvita-Magic-Chocolat...      4.3         8481.0   \n",
       "2  https://www.amazon.in/Sugarfree-Green-100-Natu...      4.3         1585.0   \n",
       "3  https://www.amazon.in/Daawat-Pulav-Basmati-Ric...      4.3         3907.0   \n",
       "4  https://www.amazon.in/Tata-Tea-Gold-500g/dp/B0...      4.4        15528.0   \n",
       "\n",
       "   discount_price  actual_price  discount  discount%  \n",
       "0           686.0         998.0     312.0      31.26  \n",
       "1           353.0         353.0       0.0       0.00  \n",
       "2           162.0         170.0       8.0       4.71  \n",
       "3           138.0         139.0       1.0       0.72  \n",
       "4           283.0         295.0      12.0       4.07  "
      ]
     },
     "execution_count": 22,
     "metadata": {},
     "output_type": "execute_result"
    }
   ],
   "source": [
    "df['discount'] = df['actual_price'] - df['discount_price']\n",
    "df['discount%'] = round((df['discount']/df['actual_price'])*100, 2)\n",
    "df.head()"
   ]
  },
  {
   "cell_type": "code",
   "execution_count": 23,
   "id": "b2f65e96",
   "metadata": {
    "execution": {
     "iopub.execute_input": "2024-01-29T05:40:34.494664Z",
     "iopub.status.busy": "2024-01-29T05:40:34.493357Z",
     "iopub.status.idle": "2024-01-29T05:40:34.506381Z",
     "shell.execute_reply": "2024-01-29T05:40:34.505097Z"
    },
    "papermill": {
     "duration": 0.033266,
     "end_time": "2024-01-29T05:40:34.509884",
     "exception": false,
     "start_time": "2024-01-29T05:40:34.476618",
     "status": "completed"
    },
    "tags": []
   },
   "outputs": [
    {
     "data": {
      "text/plain": [
       "count    954.000000\n",
       "mean      17.616551\n",
       "std       17.899609\n",
       "min        0.000000\n",
       "25%        2.000000\n",
       "50%       12.500000\n",
       "75%       27.955000\n",
       "max       91.680000\n",
       "Name: discount%, dtype: float64"
      ]
     },
     "execution_count": 23,
     "metadata": {},
     "output_type": "execute_result"
    }
   ],
   "source": [
    "df['discount%'].describe()"
   ]
  },
  {
   "cell_type": "code",
   "execution_count": 24,
   "id": "c89fe01b",
   "metadata": {
    "execution": {
     "iopub.execute_input": "2024-01-29T05:40:34.542525Z",
     "iopub.status.busy": "2024-01-29T05:40:34.542049Z",
     "iopub.status.idle": "2024-01-29T05:40:34.958878Z",
     "shell.execute_reply": "2024-01-29T05:40:34.957623Z"
    },
    "papermill": {
     "duration": 0.436712,
     "end_time": "2024-01-29T05:40:34.961961",
     "exception": false,
     "start_time": "2024-01-29T05:40:34.525249",
     "status": "completed"
    },
    "tags": []
   },
   "outputs": [
    {
     "data": {
      "image/png": "[encoded data removed]",
      "text/plain": [
       "<Figure size 1000x600 with 1 Axes>"
      ]
     },
     "metadata": {},
     "output_type": "display_data"
    }
   ],
   "source": [
    "plt.figure(figsize=(10, 6))\n",
    "plt.hist(df['discount%'], bins=10, color='skyblue', edgecolor='black')\n",
    "plt.xlabel('discout %')\n",
    "plt.ylabel('frequency')\n",
    "plt.title('histogram of discount %')\n",
    "plt.grid(True)\n",
    "plt.show()\n"
   ]
  },
  {
   "cell_type": "code",
   "execution_count": 25,
   "id": "c3fcbae3",
   "metadata": {
    "execution": {
     "iopub.execute_input": "2024-01-29T05:40:34.996006Z",
     "iopub.status.busy": "2024-01-29T05:40:34.995515Z",
     "iopub.status.idle": "2024-01-29T05:40:35.540854Z",
     "shell.execute_reply": "2024-01-29T05:40:35.539635Z"
    },
    "papermill": {
     "duration": 0.566836,
     "end_time": "2024-01-29T05:40:35.544497",
     "exception": false,
     "start_time": "2024-01-29T05:40:34.977661",
     "status": "completed"
    },
    "tags": []
   },
   "outputs": [
    {
     "data": {
      "image/png": "[encoded data removed]",
      "text/plain": [
       "<Figure size 1000x600 with 1 Axes>"
      ]
     },
     "metadata": {},
     "output_type": "display_data"
    }
   ],
   "source": [
    "top_10_products = df.sort_values(by='discount%', ascending=False).head(10)\n",
    "x=top_10_products['name']\n",
    "y=top_10_products['discount%']\n",
    "plt.figure(figsize=(10, 6))\n",
    "plt.bar(x, y, color='skyblue', edgecolor='black')\n",
    "plt.xlabel('Product Name')\n",
    "plt.ylabel('Discount %')\n",
    "plt.title('Product Discount')\n",
    "plt.xticks(rotation=90)\n",
    "plt.show()"
   ]
  },
  {
   "cell_type": "code",
   "execution_count": null,
   "id": "42dcd24e",
   "metadata": {
    "papermill": {
     "duration": 0.018438,
     "end_time": "2024-01-29T05:40:35.581753",
     "exception": false,
     "start_time": "2024-01-29T05:40:35.563315",
     "status": "completed"
    },
    "tags": []
   },
   "outputs": [],
   "source": []
  },
  {
   "cell_type": "code",
   "execution_count": 26,
   "id": "eebb254e",
   "metadata": {
    "execution": {
     "iopub.execute_input": "2024-01-29T05:40:35.621141Z",
     "iopub.status.busy": "2024-01-29T05:40:35.620065Z",
     "iopub.status.idle": "2024-01-29T05:40:35.642332Z",
     "shell.execute_reply": "2024-01-29T05:40:35.641074Z"
    },
    "papermill": {
     "duration": 0.044796,
     "end_time": "2024-01-29T05:40:35.645283",
     "exception": false,
     "start_time": "2024-01-29T05:40:35.600487",
     "status": "completed"
    },
    "tags": []
   },
   "outputs": [
    {
     "data": {
      "text/html": [
       "<div>\n",
       "<style scoped>\n",
       "    .dataframe tbody tr th:only-of-type {\n",
       "        vertical-align: middle;\n",
       "    }\n",
       "\n",
       "    .dataframe tbody tr th {\n",
       "        vertical-align: top;\n",
       "    }\n",
       "\n",
       "    .dataframe thead th {\n",
       "        text-align: right;\n",
       "    }\n",
       "</style>\n",
       "<table border=\"1\" class=\"dataframe\">\n",
       "  <thead>\n",
       "    <tr style=\"text-align: right;\">\n",
       "      <th></th>\n",
       "      <th>name</th>\n",
       "      <th>main_category</th>\n",
       "      <th>sub_category</th>\n",
       "      <th>image</th>\n",
       "      <th>link</th>\n",
       "      <th>ratings</th>\n",
       "      <th>no_of_ratings</th>\n",
       "      <th>discount_price</th>\n",
       "      <th>actual_price</th>\n",
       "      <th>discount</th>\n",
       "      <th>discount%</th>\n",
       "    </tr>\n",
       "  </thead>\n",
       "  <tbody>\n",
       "    <tr>\n",
       "      <th>0</th>\n",
       "      <td>Nutraj 100% Natural Dried Premium California W...</td>\n",
       "      <td>grocery &amp; gourmet foods</td>\n",
       "      <td>All Grocery &amp; Gourmet Foods</td>\n",
       "      <td>https://m.media-amazon.com/images/I/71f5UPOWDq...</td>\n",
       "      <td>https://www.amazon.in/Nutraj-California-Walnut...</td>\n",
       "      <td>3.9</td>\n",
       "      <td>6081.0</td>\n",
       "      <td>686.0</td>\n",
       "      <td>998.0</td>\n",
       "      <td>312.0</td>\n",
       "      <td>31.26</td>\n",
       "    </tr>\n",
       "    <tr>\n",
       "      <th>1</th>\n",
       "      <td>Cadbury Bournvita 5 Star Magic Health Drink, 7...</td>\n",
       "      <td>grocery &amp; gourmet foods</td>\n",
       "      <td>All Grocery &amp; Gourmet Foods</td>\n",
       "      <td>https://m.media-amazon.com/images/I/614FIW5c6H...</td>\n",
       "      <td>https://www.amazon.in/Bournvita-Magic-Chocolat...</td>\n",
       "      <td>4.3</td>\n",
       "      <td>8481.0</td>\n",
       "      <td>353.0</td>\n",
       "      <td>353.0</td>\n",
       "      <td>0.0</td>\n",
       "      <td>0.00</td>\n",
       "    </tr>\n",
       "    <tr>\n",
       "      <th>2</th>\n",
       "      <td>Sugar Free Green Natural Stevia Jar(200 g)</td>\n",
       "      <td>grocery &amp; gourmet foods</td>\n",
       "      <td>All Grocery &amp; Gourmet Foods</td>\n",
       "      <td>https://m.media-amazon.com/images/I/61rBhkTJ6E...</td>\n",
       "      <td>https://www.amazon.in/Sugarfree-Green-100-Natu...</td>\n",
       "      <td>4.3</td>\n",
       "      <td>1585.0</td>\n",
       "      <td>162.0</td>\n",
       "      <td>170.0</td>\n",
       "      <td>8.0</td>\n",
       "      <td>4.71</td>\n",
       "    </tr>\n",
       "    <tr>\n",
       "      <th>3</th>\n",
       "      <td>Daawat Pulav, Long Grains, Fluffy Basmati for ...</td>\n",
       "      <td>grocery &amp; gourmet foods</td>\n",
       "      <td>All Grocery &amp; Gourmet Foods</td>\n",
       "      <td>https://m.media-amazon.com/images/I/71UO6eXC1Q...</td>\n",
       "      <td>https://www.amazon.in/Daawat-Pulav-Basmati-Ric...</td>\n",
       "      <td>4.3</td>\n",
       "      <td>3907.0</td>\n",
       "      <td>138.0</td>\n",
       "      <td>139.0</td>\n",
       "      <td>1.0</td>\n",
       "      <td>0.72</td>\n",
       "    </tr>\n",
       "    <tr>\n",
       "      <th>4</th>\n",
       "      <td>Tata Tea Gold | Assam teas with Gently Rolled ...</td>\n",
       "      <td>grocery &amp; gourmet foods</td>\n",
       "      <td>All Grocery &amp; Gourmet Foods</td>\n",
       "      <td>https://m.media-amazon.com/images/I/51kEujuYlp...</td>\n",
       "      <td>https://www.amazon.in/Tata-Tea-Gold-500g/dp/B0...</td>\n",
       "      <td>4.4</td>\n",
       "      <td>15528.0</td>\n",
       "      <td>283.0</td>\n",
       "      <td>295.0</td>\n",
       "      <td>12.0</td>\n",
       "      <td>4.07</td>\n",
       "    </tr>\n",
       "  </tbody>\n",
       "</table>\n",
       "</div>"
      ],
      "text/plain": [
       "                                                name            main_category  \\\n",
       "0  Nutraj 100% Natural Dried Premium California W...  grocery & gourmet foods   \n",
       "1  Cadbury Bournvita 5 Star Magic Health Drink, 7...  grocery & gourmet foods   \n",
       "2         Sugar Free Green Natural Stevia Jar(200 g)  grocery & gourmet foods   \n",
       "3  Daawat Pulav, Long Grains, Fluffy Basmati for ...  grocery & gourmet foods   \n",
       "4  Tata Tea Gold | Assam teas with Gently Rolled ...  grocery & gourmet foods   \n",
       "\n",
       "                  sub_category  \\\n",
       "0  All Grocery & Gourmet Foods   \n",
       "1  All Grocery & Gourmet Foods   \n",
       "2  All Grocery & Gourmet Foods   \n",
       "3  All Grocery & Gourmet Foods   \n",
       "4  All Grocery & Gourmet Foods   \n",
       "\n",
       "                                               image  \\\n",
       "0  https://m.media-amazon.com/images/I/71f5UPOWDq...   \n",
       "1  https://m.media-amazon.com/images/I/614FIW5c6H...   \n",
       "2  https://m.media-amazon.com/images/I/61rBhkTJ6E...   \n",
       "3  https://m.media-amazon.com/images/I/71UO6eXC1Q...   \n",
       "4  https://m.media-amazon.com/images/I/51kEujuYlp...   \n",
       "\n",
       "                                                link  ratings  no_of_ratings  \\\n",
       "0  https://www.amazon.in/Nutraj-California-Walnut...      3.9         6081.0   \n",
       "1  https://www.amazon.in/Bournvita-Magic-Chocolat...      4.3         8481.0   \n",
       "2  https://www.amazon.in/Sugarfree-Green-100-Natu...      4.3         1585.0   \n",
       "3  https://www.amazon.in/Daawat-Pulav-Basmati-Ric...      4.3         3907.0   \n",
       "4  https://www.amazon.in/Tata-Tea-Gold-500g/dp/B0...      4.4        15528.0   \n",
       "\n",
       "   discount_price  actual_price  discount  discount%  \n",
       "0           686.0         998.0     312.0      31.26  \n",
       "1           353.0         353.0       0.0       0.00  \n",
       "2           162.0         170.0       8.0       4.71  \n",
       "3           138.0         139.0       1.0       0.72  \n",
       "4           283.0         295.0      12.0       4.07  "
      ]
     },
     "execution_count": 26,
     "metadata": {},
     "output_type": "execute_result"
    }
   ],
   "source": [
    "df.head()"
   ]
  },
  {
   "cell_type": "code",
   "execution_count": null,
   "id": "44d6870c",
   "metadata": {
    "papermill": {
     "duration": 0.018039,
     "end_time": "2024-01-29T05:40:35.682716",
     "exception": false,
     "start_time": "2024-01-29T05:40:35.664677",
     "status": "completed"
    },
    "tags": []
   },
   "outputs": [],
   "source": []
  }
 ],
 "metadata": {
  "kaggle": {
   "accelerator": "none",
   "dataSources": [
    {
     "datasetId": 3020336,
     "sourceId": 5239462,
     "sourceType": "datasetVersion"
    }
   ],
   "dockerImageVersionId": 30635,
   "isGpuEnabled": false,
   "isInternetEnabled": false,
   "language": "python",
   "sourceType": "notebook"
  },
  "kernelspec": {
   "display_name": "Python 3",
   "language": "python",
   "name": "python3"
  },
  "language_info": {
   "codemirror_mode": {
    "name": "ipython",
    "version": 3
   },
   "file_extension": ".py",
   "mimetype": "text/x-python",
   "name": "python",
   "nbconvert_exporter": "python",
   "pygments_lexer": "ipython3",
   "version": "3.10.12"
  },
  "papermill": {
   "default_parameters": {},
   "duration": 9.256815,
   "end_time": "2024-01-29T05:40:36.629534",
   "environment_variables": {},
   "exception": null,
   "input_path": "__notebook__.ipynb",
   "output_path": "__notebook__.ipynb",
   "parameters": {},
   "start_time": "2024-01-29T05:40:27.372719",
   "version": "2.4.0"
  }
 },
 "nbformat": 4,
 "nbformat_minor": 5
}
