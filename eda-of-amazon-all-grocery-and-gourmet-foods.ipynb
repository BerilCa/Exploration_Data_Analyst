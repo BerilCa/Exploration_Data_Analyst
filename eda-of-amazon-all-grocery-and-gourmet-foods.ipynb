{
 "cells": [
  {
   "cell_type": "code",
   "execution_count": 1,
   "id": "9ddd4756",
   "metadata": {
    "_cell_guid": "b1076dfc-b9ad-4769-8c92-a6c4dae69d19",
    "_uuid": "8f2839f25d086af736a60e9eeb907d3b93b6e0e5",
    "execution": {
     "iopub.execute_input": "2024-01-27T03:59:37.044271Z",
     "iopub.status.busy": "2024-01-27T03:59:37.043904Z",
     "iopub.status.idle": "2024-01-27T03:59:37.423735Z",
     "shell.execute_reply": "2024-01-27T03:59:37.422861Z"
    },
    "papermill": {
     "duration": 0.389767,
     "end_time": "2024-01-27T03:59:37.426258",
     "exception": false,
     "start_time": "2024-01-27T03:59:37.036491",
     "status": "completed"
    },
    "tags": []
   },
   "outputs": [
    {
     "name": "stdout",
     "output_type": "stream",
     "text": [
      "/kaggle/input/amazon-products-dataset/Gaming Consoles.csv\n",
      "/kaggle/input/amazon-products-dataset/Car Electronics.csv\n",
      "/kaggle/input/amazon-products-dataset/Janitorial and Sanitation Supplies.csv\n",
      "/kaggle/input/amazon-products-dataset/All Electronics.csv\n",
      "/kaggle/input/amazon-products-dataset/All Books.csv\n",
      "/kaggle/input/amazon-products-dataset/Make-up.csv\n",
      "/kaggle/input/amazon-products-dataset/Travel Accessories.csv\n",
      "/kaggle/input/amazon-products-dataset/Indian Language Books.csv\n",
      "/kaggle/input/amazon-products-dataset/Car and Bike Care.csv\n",
      "/kaggle/input/amazon-products-dataset/Sunglasses.csv\n",
      "/kaggle/input/amazon-products-dataset/Bags and Luggage.csv\n",
      "/kaggle/input/amazon-products-dataset/Yoga.csv\n",
      "/kaggle/input/amazon-products-dataset/Sportswear.csv\n",
      "/kaggle/input/amazon-products-dataset/Fiction Books.csv\n",
      "/kaggle/input/amazon-products-dataset/Exam Central.csv\n",
      "/kaggle/input/amazon-products-dataset/Home Storage.csv\n",
      "/kaggle/input/amazon-products-dataset/Toys Gifting Store.csv\n",
      "/kaggle/input/amazon-products-dataset/All English.csv\n",
      "/kaggle/input/amazon-products-dataset/Amazon-Products.csv\n",
      "/kaggle/input/amazon-products-dataset/Air Conditioners.csv\n",
      "/kaggle/input/amazon-products-dataset/Shoes.csv\n",
      "/kaggle/input/amazon-products-dataset/Casual Shoes.csv\n",
      "/kaggle/input/amazon-products-dataset/Baby Products.csv\n",
      "/kaggle/input/amazon-products-dataset/Sports Collectibles.csv\n",
      "/kaggle/input/amazon-products-dataset/Wallets.csv\n",
      "/kaggle/input/amazon-products-dataset/Musical Instruments and Professional Audio.csv\n",
      "/kaggle/input/amazon-products-dataset/Gold and Diamond Jewellery.csv\n",
      "/kaggle/input/amazon-products-dataset/Nursing and Feeding.csv\n",
      "/kaggle/input/amazon-products-dataset/Home Furnishing.csv\n",
      "/kaggle/input/amazon-products-dataset/School Textbooks.csv\n",
      "/kaggle/input/amazon-products-dataset/All Hindi.csv\n",
      "/kaggle/input/amazon-products-dataset/Baby Bath Skin and Grooming.csv\n",
      "/kaggle/input/amazon-products-dataset/Coffee Tea and Beverages.csv\n",
      "/kaggle/input/amazon-products-dataset/Headphones.csv\n",
      "/kaggle/input/amazon-products-dataset/Furniture.csv\n",
      "/kaggle/input/amazon-products-dataset/Shirts.csv\n",
      "/kaggle/input/amazon-products-dataset/Subscribe and Save.csv\n",
      "/kaggle/input/amazon-products-dataset/Fitness Accessories.csv\n",
      "/kaggle/input/amazon-products-dataset/Formal Shoes.csv\n",
      "/kaggle/input/amazon-products-dataset/Cycling.csv\n",
      "/kaggle/input/amazon-products-dataset/Western Wear.csv\n",
      "/kaggle/input/amazon-products-dataset/Bedroom Linen.csv\n",
      "/kaggle/input/amazon-products-dataset/Gaming Accessories.csv\n",
      "/kaggle/input/amazon-products-dataset/Amazon Fashion.csv\n",
      "/kaggle/input/amazon-products-dataset/Home Entertainment Systems.csv\n",
      "/kaggle/input/amazon-products-dataset/Strollers and Prams.csv\n",
      "/kaggle/input/amazon-products-dataset/Refurbished and Open Box.csv\n",
      "/kaggle/input/amazon-products-dataset/Garden and Outdoors.csv\n",
      "/kaggle/input/amazon-products-dataset/Diapers.csv\n",
      "/kaggle/input/amazon-products-dataset/STEM Toys Store.csv\n",
      "/kaggle/input/amazon-products-dataset/Kids Clothing.csv\n",
      "/kaggle/input/amazon-products-dataset/All Car and Motorbike Products.csv\n",
      "/kaggle/input/amazon-products-dataset/All Sports Fitness and Outdoors.csv\n",
      "/kaggle/input/amazon-products-dataset/Film Songs.csv\n",
      "/kaggle/input/amazon-products-dataset/All Home and Kitchen.csv\n",
      "/kaggle/input/amazon-products-dataset/Speakers.csv\n",
      "/kaggle/input/amazon-products-dataset/Beauty and Grooming.csv\n",
      "/kaggle/input/amazon-products-dataset/Fashion and Silver Jewellery.csv\n",
      "/kaggle/input/amazon-products-dataset/Televisions.csv\n",
      "/kaggle/input/amazon-products-dataset/Cameras.csv\n",
      "/kaggle/input/amazon-products-dataset/Home Improvement.csv\n",
      "/kaggle/input/amazon-products-dataset/Blu-ray.csv\n",
      "/kaggle/input/amazon-products-dataset/Kitchen and Home Appliances.csv\n",
      "/kaggle/input/amazon-products-dataset/Health and Personal Care.csv\n",
      "/kaggle/input/amazon-products-dataset/Sports Shoes.csv\n",
      "/kaggle/input/amazon-products-dataset/Indoor Lighting.csv\n",
      "/kaggle/input/amazon-products-dataset/Indian Classical.csv\n",
      "/kaggle/input/amazon-products-dataset/Mens Fashion.csv\n",
      "/kaggle/input/amazon-products-dataset/Kindle eBooks.csv\n",
      "/kaggle/input/amazon-products-dataset/Snack Foods.csv\n",
      "/kaggle/input/amazon-products-dataset/Kitchen Storage and Containers.csv\n",
      "/kaggle/input/amazon-products-dataset/Strength Training.csv\n",
      "/kaggle/input/amazon-products-dataset/International Music.csv\n",
      "/kaggle/input/amazon-products-dataset/Video Games Deals.csv\n",
      "/kaggle/input/amazon-products-dataset/Textbooks.csv\n",
      "/kaggle/input/amazon-products-dataset/Fine Art.csv\n",
      "/kaggle/input/amazon-products-dataset/All Grocery and Gourmet Foods.csv\n",
      "/kaggle/input/amazon-products-dataset/Luxury Beauty.csv\n",
      "/kaggle/input/amazon-products-dataset/Kids Shoes.csv\n",
      "/kaggle/input/amazon-products-dataset/Jewellery.csv\n",
      "/kaggle/input/amazon-products-dataset/Jeans.csv\n",
      "/kaggle/input/amazon-products-dataset/Cricket.csv\n",
      "/kaggle/input/amazon-products-dataset/Kids Fashion.csv\n",
      "/kaggle/input/amazon-products-dataset/Baby Fashion.csv\n",
      "/kaggle/input/amazon-products-dataset/Sewing and Craft Supplies.csv\n",
      "/kaggle/input/amazon-products-dataset/Car Parts.csv\n",
      "/kaggle/input/amazon-products-dataset/Pantry.csv\n",
      "/kaggle/input/amazon-products-dataset/Car Accessories.csv\n",
      "/kaggle/input/amazon-products-dataset/All Music.csv\n",
      "/kaggle/input/amazon-products-dataset/Toys and Games.csv\n",
      "/kaggle/input/amazon-products-dataset/Amazon Pharmacy.csv\n",
      "/kaggle/input/amazon-products-dataset/Camping and Hiking.csv\n",
      "/kaggle/input/amazon-products-dataset/Ethnic Wear.csv\n",
      "/kaggle/input/amazon-products-dataset/Kids Watches.csv\n",
      "/kaggle/input/amazon-products-dataset/Heating and Cooling Appliances.csv\n",
      "/kaggle/input/amazon-products-dataset/Kitchen and Dining.csv\n",
      "/kaggle/input/amazon-products-dataset/Personal Care Appliances.csv\n",
      "/kaggle/input/amazon-products-dataset/Home Audio and Theater.csv\n",
      "/kaggle/input/amazon-products-dataset/Security Cameras.csv\n",
      "/kaggle/input/amazon-products-dataset/Fashion Sales and Deals.csv\n",
      "/kaggle/input/amazon-products-dataset/Lab and Scientific.csv\n",
      "/kaggle/input/amazon-products-dataset/Rucksacks.csv\n",
      "/kaggle/input/amazon-products-dataset/Football.csv\n",
      "/kaggle/input/amazon-products-dataset/Diet and Nutrition.csv\n",
      "/kaggle/input/amazon-products-dataset/Lingerie and Nightwear.csv\n",
      "/kaggle/input/amazon-products-dataset/School Bags.csv\n",
      "/kaggle/input/amazon-products-dataset/T-shirts and Polos.csv\n",
      "/kaggle/input/amazon-products-dataset/All Pet Supplies.csv\n",
      "/kaggle/input/amazon-products-dataset/Value Bazaar.csv\n",
      "/kaggle/input/amazon-products-dataset/Household Supplies.csv\n",
      "/kaggle/input/amazon-products-dataset/Backpacks.csv\n",
      "/kaggle/input/amazon-products-dataset/Fashion Sandals.csv\n",
      "/kaggle/input/amazon-products-dataset/Camera Accessories.csv\n",
      "/kaggle/input/amazon-products-dataset/Industrial and Scientific Supplies.csv\n",
      "/kaggle/input/amazon-products-dataset/Motorbike Accessories and Parts.csv\n",
      "/kaggle/input/amazon-products-dataset/All Appliances.csv\n",
      "/kaggle/input/amazon-products-dataset/PC Games.csv\n",
      "/kaggle/input/amazon-products-dataset/Running.csv\n",
      "/kaggle/input/amazon-products-dataset/All Movies and TV Shows.csv\n",
      "/kaggle/input/amazon-products-dataset/Dog supplies.csv\n",
      "/kaggle/input/amazon-products-dataset/Entertainment Collectibles.csv\n",
      "/kaggle/input/amazon-products-dataset/Washing Machines.csv\n",
      "/kaggle/input/amazon-products-dataset/Cardio Equipment.csv\n",
      "/kaggle/input/amazon-products-dataset/Refrigerators.csv\n",
      "/kaggle/input/amazon-products-dataset/All Video Games.csv\n",
      "/kaggle/input/amazon-products-dataset/Innerwear.csv\n",
      "/kaggle/input/amazon-products-dataset/Suitcases and Trolley Bags.csv\n",
      "/kaggle/input/amazon-products-dataset/Home Dcor.csv\n",
      "/kaggle/input/amazon-products-dataset/Clothing.csv\n",
      "/kaggle/input/amazon-products-dataset/Ballerinas.csv\n",
      "/kaggle/input/amazon-products-dataset/All Exercise and Fitness.csv\n",
      "/kaggle/input/amazon-products-dataset/Badminton.csv\n",
      "/kaggle/input/amazon-products-dataset/Travel Duffles.csv\n",
      "/kaggle/input/amazon-products-dataset/Handbags and Clutches.csv\n",
      "/kaggle/input/amazon-products-dataset/Womens Fashion.csv\n",
      "/kaggle/input/amazon-products-dataset/International Toy Store.csv\n",
      "/kaggle/input/amazon-products-dataset/The Designer Boutique.csv\n",
      "/kaggle/input/amazon-products-dataset/Watches.csv\n",
      "/kaggle/input/amazon-products-dataset/Test Measure and Inspect.csv\n",
      "/kaggle/input/amazon-products-dataset/Childrens Books.csv\n"
     ]
    }
   ],
   "source": [
    "# This Python 3 environment comes with many helpful analytics libraries installed\n",
    "# It is defined by the kaggle/python Docker image: https://github.com/kaggle/docker-python\n",
    "# For example, here's several helpful packages to load\n",
    "\n",
    "import numpy as np # linear algebra\n",
    "import pandas as pd # data processing, CSV file I/O (e.g. pd.read_csv)\n",
    "\n",
    "# Input data files are available in the read-only \"../input/\" directory\n",
    "# For example, running this (by clicking run or pressing Shift+Enter) will list all files under the input directory\n",
    "\n",
    "import os\n",
    "for dirname, _, filenames in os.walk('/kaggle/input'):\n",
    "    for filename in filenames:\n",
    "        print(os.path.join(dirname, filename))\n",
    "\n",
    "# You can write up to 20GB to the current directory (/kaggle/working/) that gets preserved as output when you create a version using \"Save & Run All\" \n",
    "# You can also write temporary files to /kaggle/temp/, but they won't be saved outside of the current session"
   ]
  },
  {
   "cell_type": "code",
   "execution_count": 2,
   "id": "5ec7384e",
   "metadata": {
    "execution": {
     "iopub.execute_input": "2024-01-27T03:59:37.440317Z",
     "iopub.status.busy": "2024-01-27T03:59:37.439361Z",
     "iopub.status.idle": "2024-01-27T03:59:38.876875Z",
     "shell.execute_reply": "2024-01-27T03:59:38.875619Z"
    },
    "papermill": {
     "duration": 1.44715,
     "end_time": "2024-01-27T03:59:38.879321",
     "exception": false,
     "start_time": "2024-01-27T03:59:37.432171",
     "status": "completed"
    },
    "tags": []
   },
   "outputs": [],
   "source": [
    "import pandas as pd\n",
    "import numpy as np \n",
    "import matplotlib.pylab as plt\n",
    "import seaborn as sns\n",
    "plt.style.use('_mpl-gallery')\n",
    "pd.set_option(\"display.max_columns\", 300)"
   ]
  },
  {
   "cell_type": "code",
   "execution_count": 3,
   "id": "7ae726b0",
   "metadata": {
    "execution": {
     "iopub.execute_input": "2024-01-27T03:59:38.891333Z",
     "iopub.status.busy": "2024-01-27T03:59:38.890886Z",
     "iopub.status.idle": "2024-01-27T03:59:38.944191Z",
     "shell.execute_reply": "2024-01-27T03:59:38.942372Z"
    },
    "papermill": {
     "duration": 0.062416,
     "end_time": "2024-01-27T03:59:38.947060",
     "exception": false,
     "start_time": "2024-01-27T03:59:38.884644",
     "status": "completed"
    },
    "tags": []
   },
   "outputs": [
    {
     "data": {
      "text/html": [
       "<div>\n",
       "<style scoped>\n",
       "    .dataframe tbody tr th:only-of-type {\n",
       "        vertical-align: middle;\n",
       "    }\n",
       "\n",
       "    .dataframe tbody tr th {\n",
       "        vertical-align: top;\n",
       "    }\n",
       "\n",
       "    .dataframe thead th {\n",
       "        text-align: right;\n",
       "    }\n",
       "</style>\n",
       "<table border=\"1\" class=\"dataframe\">\n",
       "  <thead>\n",
       "    <tr style=\"text-align: right;\">\n",
       "      <th></th>\n",
       "      <th>name</th>\n",
       "      <th>main_category</th>\n",
       "      <th>sub_category</th>\n",
       "      <th>image</th>\n",
       "      <th>link</th>\n",
       "      <th>ratings</th>\n",
       "      <th>no_of_ratings</th>\n",
       "      <th>discount_price</th>\n",
       "      <th>actual_price</th>\n",
       "    </tr>\n",
       "  </thead>\n",
       "  <tbody>\n",
       "    <tr>\n",
       "      <th>0</th>\n",
       "      <td>Nutraj 100% Natural Dried Premium California W...</td>\n",
       "      <td>grocery &amp; gourmet foods</td>\n",
       "      <td>All Grocery &amp; Gourmet Foods</td>\n",
       "      <td>https://m.media-amazon.com/images/I/71f5UPOWDq...</td>\n",
       "      <td>https://www.amazon.in/Nutraj-California-Walnut...</td>\n",
       "      <td>3.9</td>\n",
       "      <td>6,081</td>\n",
       "      <td>₹686</td>\n",
       "      <td>₹998</td>\n",
       "    </tr>\n",
       "    <tr>\n",
       "      <th>1</th>\n",
       "      <td>Cadbury Bournvita 5 Star Magic Health Drink, 7...</td>\n",
       "      <td>grocery &amp; gourmet foods</td>\n",
       "      <td>All Grocery &amp; Gourmet Foods</td>\n",
       "      <td>https://m.media-amazon.com/images/I/614FIW5c6H...</td>\n",
       "      <td>https://www.amazon.in/Bournvita-Magic-Chocolat...</td>\n",
       "      <td>4.3</td>\n",
       "      <td>8,481</td>\n",
       "      <td>NaN</td>\n",
       "      <td>₹353</td>\n",
       "    </tr>\n",
       "    <tr>\n",
       "      <th>2</th>\n",
       "      <td>Sugar Free Green Natural Stevia Jar(200 g)</td>\n",
       "      <td>grocery &amp; gourmet foods</td>\n",
       "      <td>All Grocery &amp; Gourmet Foods</td>\n",
       "      <td>https://m.media-amazon.com/images/I/61rBhkTJ6E...</td>\n",
       "      <td>https://www.amazon.in/Sugarfree-Green-100-Natu...</td>\n",
       "      <td>4.3</td>\n",
       "      <td>1,585</td>\n",
       "      <td>₹162</td>\n",
       "      <td>₹170</td>\n",
       "    </tr>\n",
       "    <tr>\n",
       "      <th>3</th>\n",
       "      <td>Daawat Pulav, Long Grains, Fluffy Basmati for ...</td>\n",
       "      <td>grocery &amp; gourmet foods</td>\n",
       "      <td>All Grocery &amp; Gourmet Foods</td>\n",
       "      <td>https://m.media-amazon.com/images/I/71UO6eXC1Q...</td>\n",
       "      <td>https://www.amazon.in/Daawat-Pulav-Basmati-Ric...</td>\n",
       "      <td>4.3</td>\n",
       "      <td>3,907</td>\n",
       "      <td>₹138</td>\n",
       "      <td>₹139</td>\n",
       "    </tr>\n",
       "    <tr>\n",
       "      <th>4</th>\n",
       "      <td>Tata Tea Gold | Assam teas with Gently Rolled ...</td>\n",
       "      <td>grocery &amp; gourmet foods</td>\n",
       "      <td>All Grocery &amp; Gourmet Foods</td>\n",
       "      <td>https://m.media-amazon.com/images/I/51kEujuYlp...</td>\n",
       "      <td>https://www.amazon.in/Tata-Tea-Gold-500g/dp/B0...</td>\n",
       "      <td>4.4</td>\n",
       "      <td>15,528</td>\n",
       "      <td>₹283</td>\n",
       "      <td>₹295</td>\n",
       "    </tr>\n",
       "  </tbody>\n",
       "</table>\n",
       "</div>"
      ],
      "text/plain": [
       "                                                name            main_category  \\\n",
       "0  Nutraj 100% Natural Dried Premium California W...  grocery & gourmet foods   \n",
       "1  Cadbury Bournvita 5 Star Magic Health Drink, 7...  grocery & gourmet foods   \n",
       "2         Sugar Free Green Natural Stevia Jar(200 g)  grocery & gourmet foods   \n",
       "3  Daawat Pulav, Long Grains, Fluffy Basmati for ...  grocery & gourmet foods   \n",
       "4  Tata Tea Gold | Assam teas with Gently Rolled ...  grocery & gourmet foods   \n",
       "\n",
       "                  sub_category  \\\n",
       "0  All Grocery & Gourmet Foods   \n",
       "1  All Grocery & Gourmet Foods   \n",
       "2  All Grocery & Gourmet Foods   \n",
       "3  All Grocery & Gourmet Foods   \n",
       "4  All Grocery & Gourmet Foods   \n",
       "\n",
       "                                               image  \\\n",
       "0  https://m.media-amazon.com/images/I/71f5UPOWDq...   \n",
       "1  https://m.media-amazon.com/images/I/614FIW5c6H...   \n",
       "2  https://m.media-amazon.com/images/I/61rBhkTJ6E...   \n",
       "3  https://m.media-amazon.com/images/I/71UO6eXC1Q...   \n",
       "4  https://m.media-amazon.com/images/I/51kEujuYlp...   \n",
       "\n",
       "                                                link ratings no_of_ratings  \\\n",
       "0  https://www.amazon.in/Nutraj-California-Walnut...     3.9         6,081   \n",
       "1  https://www.amazon.in/Bournvita-Magic-Chocolat...     4.3         8,481   \n",
       "2  https://www.amazon.in/Sugarfree-Green-100-Natu...     4.3         1,585   \n",
       "3  https://www.amazon.in/Daawat-Pulav-Basmati-Ric...     4.3         3,907   \n",
       "4  https://www.amazon.in/Tata-Tea-Gold-500g/dp/B0...     4.4        15,528   \n",
       "\n",
       "  discount_price actual_price  \n",
       "0           ₹686         ₹998  \n",
       "1            NaN         ₹353  \n",
       "2           ₹162         ₹170  \n",
       "3           ₹138         ₹139  \n",
       "4           ₹283         ₹295  "
      ]
     },
     "execution_count": 3,
     "metadata": {},
     "output_type": "execute_result"
    }
   ],
   "source": [
    "df = pd.read_csv(\"/kaggle/input/amazon-products-dataset/All Grocery and Gourmet Foods.csv\")\n",
    "df.head()"
   ]
  },
  {
   "cell_type": "code",
   "execution_count": 4,
   "id": "cbfa8417",
   "metadata": {
    "execution": {
     "iopub.execute_input": "2024-01-27T03:59:38.960495Z",
     "iopub.status.busy": "2024-01-27T03:59:38.960161Z",
     "iopub.status.idle": "2024-01-27T03:59:38.965115Z",
     "shell.execute_reply": "2024-01-27T03:59:38.964321Z"
    },
    "papermill": {
     "duration": 0.013594,
     "end_time": "2024-01-27T03:59:38.966924",
     "exception": false,
     "start_time": "2024-01-27T03:59:38.953330",
     "status": "completed"
    },
    "tags": []
   },
   "outputs": [
    {
     "data": {
      "text/plain": [
       "(960, 9)"
      ]
     },
     "execution_count": 4,
     "metadata": {},
     "output_type": "execute_result"
    }
   ],
   "source": [
    "df.shape"
   ]
  },
  {
   "cell_type": "code",
   "execution_count": 5,
   "id": "224cfe13",
   "metadata": {
    "execution": {
     "iopub.execute_input": "2024-01-27T03:59:38.979947Z",
     "iopub.status.busy": "2024-01-27T03:59:38.979562Z",
     "iopub.status.idle": "2024-01-27T03:59:38.986595Z",
     "shell.execute_reply": "2024-01-27T03:59:38.985485Z"
    },
    "papermill": {
     "duration": 0.016507,
     "end_time": "2024-01-27T03:59:38.989089",
     "exception": false,
     "start_time": "2024-01-27T03:59:38.972582",
     "status": "completed"
    },
    "tags": []
   },
   "outputs": [
    {
     "data": {
      "text/plain": [
       "Index(['name', 'main_category', 'sub_category', 'image', 'link', 'ratings',\n",
       "       'no_of_ratings', 'discount_price', 'actual_price'],\n",
       "      dtype='object')"
      ]
     },
     "execution_count": 5,
     "metadata": {},
     "output_type": "execute_result"
    }
   ],
   "source": [
    "df.columns"
   ]
  },
  {
   "cell_type": "code",
   "execution_count": 6,
   "id": "776838f4",
   "metadata": {
    "execution": {
     "iopub.execute_input": "2024-01-27T03:59:39.002680Z",
     "iopub.status.busy": "2024-01-27T03:59:39.002354Z",
     "iopub.status.idle": "2024-01-27T03:59:39.029466Z",
     "shell.execute_reply": "2024-01-27T03:59:39.028750Z"
    },
    "papermill": {
     "duration": 0.036363,
     "end_time": "2024-01-27T03:59:39.031513",
     "exception": false,
     "start_time": "2024-01-27T03:59:38.995150",
     "status": "completed"
    },
    "tags": []
   },
   "outputs": [
    {
     "name": "stdout",
     "output_type": "stream",
     "text": [
      "<class 'pandas.core.frame.DataFrame'>\n",
      "RangeIndex: 960 entries, 0 to 959\n",
      "Data columns (total 9 columns):\n",
      " #   Column          Non-Null Count  Dtype \n",
      "---  ------          --------------  ----- \n",
      " 0   name            960 non-null    object\n",
      " 1   main_category   960 non-null    object\n",
      " 2   sub_category    960 non-null    object\n",
      " 3   image           960 non-null    object\n",
      " 4   link            960 non-null    object\n",
      " 5   ratings         946 non-null    object\n",
      " 6   no_of_ratings   946 non-null    object\n",
      " 7   discount_price  759 non-null    object\n",
      " 8   actual_price    954 non-null    object\n",
      "dtypes: object(9)\n",
      "memory usage: 67.6+ KB\n"
     ]
    }
   ],
   "source": [
    "df.info()"
   ]
  },
  {
   "cell_type": "code",
   "execution_count": 7,
   "id": "e8073183",
   "metadata": {
    "execution": {
     "iopub.execute_input": "2024-01-27T03:59:39.045455Z",
     "iopub.status.busy": "2024-01-27T03:59:39.044678Z",
     "iopub.status.idle": "2024-01-27T03:59:39.053105Z",
     "shell.execute_reply": "2024-01-27T03:59:39.051462Z"
    },
    "papermill": {
     "duration": 0.017875,
     "end_time": "2024-01-27T03:59:39.055529",
     "exception": false,
     "start_time": "2024-01-27T03:59:39.037654",
     "status": "completed"
    },
    "tags": []
   },
   "outputs": [
    {
     "data": {
      "text/plain": [
       "name                0\n",
       "main_category       0\n",
       "sub_category        0\n",
       "image               0\n",
       "link                0\n",
       "ratings            14\n",
       "no_of_ratings      14\n",
       "discount_price    201\n",
       "actual_price        6\n",
       "dtype: int64"
      ]
     },
     "execution_count": 7,
     "metadata": {},
     "output_type": "execute_result"
    }
   ],
   "source": [
    "df.isna().sum()"
   ]
  },
  {
   "cell_type": "code",
   "execution_count": 8,
   "id": "e2d65da5",
   "metadata": {
    "execution": {
     "iopub.execute_input": "2024-01-27T03:59:39.070246Z",
     "iopub.status.busy": "2024-01-27T03:59:39.069662Z",
     "iopub.status.idle": "2024-01-27T03:59:39.160528Z",
     "shell.execute_reply": "2024-01-27T03:59:39.159347Z"
    },
    "papermill": {
     "duration": 0.101231,
     "end_time": "2024-01-27T03:59:39.163200",
     "exception": false,
     "start_time": "2024-01-27T03:59:39.061969",
     "status": "completed"
    },
    "tags": []
   },
   "outputs": [
    {
     "data": {
      "text/plain": [
       "0"
      ]
     },
     "execution_count": 8,
     "metadata": {},
     "output_type": "execute_result"
    }
   ],
   "source": [
    "df.duplicated().sum()"
   ]
  },
  {
   "cell_type": "markdown",
   "id": "78e1e788",
   "metadata": {
    "papermill": {
     "duration": 0.005651,
     "end_time": "2024-01-27T03:59:39.175879",
     "exception": false,
     "start_time": "2024-01-27T03:59:39.170228",
     "status": "completed"
    },
    "tags": []
   },
   "source": [
    "# 1. Data Cleaning"
   ]
  },
  {
   "cell_type": "markdown",
   "id": "487988e2",
   "metadata": {
    "papermill": {
     "duration": 0.005629,
     "end_time": "2024-01-27T03:59:39.187481",
     "exception": false,
     "start_time": "2024-01-27T03:59:39.181852",
     "status": "completed"
    },
    "tags": []
   },
   "source": [
    "**1.1 formating table**"
   ]
  },
  {
   "cell_type": "code",
   "execution_count": 9,
   "id": "3a3405c3",
   "metadata": {
    "execution": {
     "iopub.execute_input": "2024-01-27T03:59:39.200953Z",
     "iopub.status.busy": "2024-01-27T03:59:39.200555Z",
     "iopub.status.idle": "2024-01-27T03:59:39.209428Z",
     "shell.execute_reply": "2024-01-27T03:59:39.208399Z"
    },
    "papermill": {
     "duration": 0.018033,
     "end_time": "2024-01-27T03:59:39.211417",
     "exception": false,
     "start_time": "2024-01-27T03:59:39.193384",
     "status": "completed"
    },
    "tags": []
   },
   "outputs": [
    {
     "data": {
      "text/plain": [
       "array(['3.9', '4.3', '4.4', '4.0', '4.5', '4.1', '4.2', nan, '4.6', '3.4',\n",
       "       '3.8', '3.7', '3.5', '4.8', '5.0', '2.5', '3.6', '3.0', '2.8',\n",
       "       '3.2', '4.7', '3.1', '3.3', '4.9', '2.0', 'Get', '2.9'],\n",
       "      dtype=object)"
      ]
     },
     "execution_count": 9,
     "metadata": {},
     "output_type": "execute_result"
    }
   ],
   "source": [
    "df['ratings'].unique()"
   ]
  },
  {
   "cell_type": "code",
   "execution_count": 10,
   "id": "70a9e3c7",
   "metadata": {
    "execution": {
     "iopub.execute_input": "2024-01-27T03:59:39.226356Z",
     "iopub.status.busy": "2024-01-27T03:59:39.225940Z",
     "iopub.status.idle": "2024-01-27T03:59:39.240108Z",
     "shell.execute_reply": "2024-01-27T03:59:39.238703Z"
    },
    "papermill": {
     "duration": 0.024448,
     "end_time": "2024-01-27T03:59:39.242355",
     "exception": false,
     "start_time": "2024-01-27T03:59:39.217907",
     "status": "completed"
    },
    "tags": []
   },
   "outputs": [
    {
     "data": {
      "text/plain": [
       "<bound method Series.info of 0      3.9\n",
       "1      4.3\n",
       "2      4.3\n",
       "3      4.3\n",
       "4      4.4\n",
       "      ... \n",
       "955    4.3\n",
       "956    4.2\n",
       "957    4.3\n",
       "958    4.4\n",
       "959    4.0\n",
       "Name: ratings, Length: 960, dtype: float64>"
      ]
     },
     "execution_count": 10,
     "metadata": {},
     "output_type": "execute_result"
    }
   ],
   "source": [
    "df['ratings'] = df['ratings'].replace('Get', 0)\n",
    "df['ratings'] = df['ratings'].astype(float)\n",
    "df['ratings'].info"
   ]
  },
  {
   "cell_type": "code",
   "execution_count": 11,
   "id": "9d1c09f7",
   "metadata": {
    "execution": {
     "iopub.execute_input": "2024-01-27T03:59:39.256419Z",
     "iopub.status.busy": "2024-01-27T03:59:39.256031Z",
     "iopub.status.idle": "2024-01-27T03:59:39.268186Z",
     "shell.execute_reply": "2024-01-27T03:59:39.266757Z"
    },
    "papermill": {
     "duration": 0.021688,
     "end_time": "2024-01-27T03:59:39.270214",
     "exception": false,
     "start_time": "2024-01-27T03:59:39.248526",
     "status": "completed"
    },
    "tags": []
   },
   "outputs": [
    {
     "data": {
      "text/plain": [
       "<bound method Series.info of 0       6081.0\n",
       "1       8481.0\n",
       "2       1585.0\n",
       "3       3907.0\n",
       "4      15528.0\n",
       "        ...   \n",
       "955      121.0\n",
       "956      128.0\n",
       "957      804.0\n",
       "958       86.0\n",
       "959     1438.0\n",
       "Name: no_of_ratings, Length: 960, dtype: float64>"
      ]
     },
     "execution_count": 11,
     "metadata": {},
     "output_type": "execute_result"
    }
   ],
   "source": [
    "df['no_of_ratings'] = df['no_of_ratings'].replace('FREE Delivery by Amazon', 0)\n",
    "df['no_of_ratings'] = df['no_of_ratings'].str.replace(',', '')\n",
    "df['no_of_ratings'] = df['no_of_ratings'].astype(float)\n",
    "df['no_of_ratings'].info"
   ]
  },
  {
   "cell_type": "code",
   "execution_count": 12,
   "id": "75eae8ad",
   "metadata": {
    "execution": {
     "iopub.execute_input": "2024-01-27T03:59:39.285102Z",
     "iopub.status.busy": "2024-01-27T03:59:39.284747Z",
     "iopub.status.idle": "2024-01-27T03:59:39.300926Z",
     "shell.execute_reply": "2024-01-27T03:59:39.299276Z"
    },
    "papermill": {
     "duration": 0.026311,
     "end_time": "2024-01-27T03:59:39.303105",
     "exception": false,
     "start_time": "2024-01-27T03:59:39.276794",
     "status": "completed"
    },
    "tags": []
   },
   "outputs": [
    {
     "name": "stdout",
     "output_type": "stream",
     "text": [
      "<class 'pandas.core.frame.DataFrame'>\n",
      "RangeIndex: 960 entries, 0 to 959\n",
      "Data columns (total 2 columns):\n",
      " #   Column          Non-Null Count  Dtype  \n",
      "---  ------          --------------  -----  \n",
      " 0   discount_price  759 non-null    float64\n",
      " 1   actual_price    954 non-null    float64\n",
      "dtypes: float64(2)\n",
      "memory usage: 15.1 KB\n"
     ]
    }
   ],
   "source": [
    "df[['discount_price', 'actual_price']] = df[['discount_price', 'actual_price']].replace('[₹,]', '', regex=True).astype(float)\n",
    "df[['discount_price', 'actual_price']].info()"
   ]
  },
  {
   "cell_type": "code",
   "execution_count": 13,
   "id": "40c60990",
   "metadata": {
    "execution": {
     "iopub.execute_input": "2024-01-27T03:59:39.317646Z",
     "iopub.status.busy": "2024-01-27T03:59:39.317233Z",
     "iopub.status.idle": "2024-01-27T03:59:39.330141Z",
     "shell.execute_reply": "2024-01-27T03:59:39.328414Z"
    },
    "papermill": {
     "duration": 0.022491,
     "end_time": "2024-01-27T03:59:39.332229",
     "exception": false,
     "start_time": "2024-01-27T03:59:39.309738",
     "status": "completed"
    },
    "tags": []
   },
   "outputs": [
    {
     "name": "stdout",
     "output_type": "stream",
     "text": [
      "<class 'pandas.core.frame.DataFrame'>\n",
      "RangeIndex: 960 entries, 0 to 959\n",
      "Data columns (total 9 columns):\n",
      " #   Column          Non-Null Count  Dtype  \n",
      "---  ------          --------------  -----  \n",
      " 0   name            960 non-null    object \n",
      " 1   main_category   960 non-null    object \n",
      " 2   sub_category    960 non-null    object \n",
      " 3   image           960 non-null    object \n",
      " 4   link            960 non-null    object \n",
      " 5   ratings         946 non-null    float64\n",
      " 6   no_of_ratings   945 non-null    float64\n",
      " 7   discount_price  759 non-null    float64\n",
      " 8   actual_price    954 non-null    float64\n",
      "dtypes: float64(4), object(5)\n",
      "memory usage: 67.6+ KB\n"
     ]
    }
   ],
   "source": [
    "df.info()"
   ]
  },
  {
   "cell_type": "markdown",
   "id": "f3f139a7",
   "metadata": {
    "papermill": {
     "duration": 0.006163,
     "end_time": "2024-01-27T03:59:39.345527",
     "exception": false,
     "start_time": "2024-01-27T03:59:39.339364",
     "status": "completed"
    },
    "tags": []
   },
   "source": [
    "**1.2 Missing Values**"
   ]
  },
  {
   "cell_type": "code",
   "execution_count": 14,
   "id": "c3f936cc",
   "metadata": {
    "execution": {
     "iopub.execute_input": "2024-01-27T03:59:39.361476Z",
     "iopub.status.busy": "2024-01-27T03:59:39.360832Z",
     "iopub.status.idle": "2024-01-27T03:59:39.371013Z",
     "shell.execute_reply": "2024-01-27T03:59:39.369731Z"
    },
    "papermill": {
     "duration": 0.020308,
     "end_time": "2024-01-27T03:59:39.373048",
     "exception": false,
     "start_time": "2024-01-27T03:59:39.352740",
     "status": "completed"
    },
    "tags": []
   },
   "outputs": [
    {
     "data": {
      "text/plain": [
       "name                0\n",
       "main_category       0\n",
       "sub_category        0\n",
       "image               0\n",
       "link                0\n",
       "ratings            14\n",
       "no_of_ratings      15\n",
       "discount_price    201\n",
       "actual_price        6\n",
       "dtype: int64"
      ]
     },
     "execution_count": 14,
     "metadata": {},
     "output_type": "execute_result"
    }
   ],
   "source": [
    "df.isna().sum()"
   ]
  },
  {
   "cell_type": "code",
   "execution_count": 15,
   "id": "fbe37b1f",
   "metadata": {
    "execution": {
     "iopub.execute_input": "2024-01-27T03:59:39.388303Z",
     "iopub.status.busy": "2024-01-27T03:59:39.387939Z",
     "iopub.status.idle": "2024-01-27T03:59:39.412573Z",
     "shell.execute_reply": "2024-01-27T03:59:39.411212Z"
    },
    "papermill": {
     "duration": 0.035192,
     "end_time": "2024-01-27T03:59:39.415207",
     "exception": false,
     "start_time": "2024-01-27T03:59:39.380015",
     "status": "completed"
    },
    "tags": []
   },
   "outputs": [
    {
     "data": {
      "text/html": [
       "<div>\n",
       "<style scoped>\n",
       "    .dataframe tbody tr th:only-of-type {\n",
       "        vertical-align: middle;\n",
       "    }\n",
       "\n",
       "    .dataframe tbody tr th {\n",
       "        vertical-align: top;\n",
       "    }\n",
       "\n",
       "    .dataframe thead th {\n",
       "        text-align: right;\n",
       "    }\n",
       "</style>\n",
       "<table border=\"1\" class=\"dataframe\">\n",
       "  <thead>\n",
       "    <tr style=\"text-align: right;\">\n",
       "      <th></th>\n",
       "      <th>ratings</th>\n",
       "      <th>no_of_ratings</th>\n",
       "      <th>discount_price</th>\n",
       "      <th>actual_price</th>\n",
       "    </tr>\n",
       "  </thead>\n",
       "  <tbody>\n",
       "    <tr>\n",
       "      <th>count</th>\n",
       "      <td>946.0</td>\n",
       "      <td>945.0</td>\n",
       "      <td>759.0</td>\n",
       "      <td>954.0</td>\n",
       "    </tr>\n",
       "    <tr>\n",
       "      <th>mean</th>\n",
       "      <td>4.0</td>\n",
       "      <td>872.0</td>\n",
       "      <td>387.0</td>\n",
       "      <td>511.0</td>\n",
       "    </tr>\n",
       "    <tr>\n",
       "      <th>std</th>\n",
       "      <td>0.0</td>\n",
       "      <td>1513.0</td>\n",
       "      <td>681.0</td>\n",
       "      <td>1393.0</td>\n",
       "    </tr>\n",
       "    <tr>\n",
       "      <th>min</th>\n",
       "      <td>0.0</td>\n",
       "      <td>1.0</td>\n",
       "      <td>9.0</td>\n",
       "      <td>10.0</td>\n",
       "    </tr>\n",
       "    <tr>\n",
       "      <th>25%</th>\n",
       "      <td>4.0</td>\n",
       "      <td>115.0</td>\n",
       "      <td>152.0</td>\n",
       "      <td>171.0</td>\n",
       "    </tr>\n",
       "    <tr>\n",
       "      <th>50%</th>\n",
       "      <td>4.0</td>\n",
       "      <td>338.0</td>\n",
       "      <td>250.0</td>\n",
       "      <td>299.0</td>\n",
       "    </tr>\n",
       "    <tr>\n",
       "      <th>75%</th>\n",
       "      <td>4.0</td>\n",
       "      <td>922.0</td>\n",
       "      <td>420.0</td>\n",
       "      <td>508.0</td>\n",
       "    </tr>\n",
       "    <tr>\n",
       "      <th>max</th>\n",
       "      <td>5.0</td>\n",
       "      <td>15528.0</td>\n",
       "      <td>13899.0</td>\n",
       "      <td>38000.0</td>\n",
       "    </tr>\n",
       "  </tbody>\n",
       "</table>\n",
       "</div>"
      ],
      "text/plain": [
       "       ratings  no_of_ratings  discount_price  actual_price\n",
       "count    946.0          945.0           759.0         954.0\n",
       "mean       4.0          872.0           387.0         511.0\n",
       "std        0.0         1513.0           681.0        1393.0\n",
       "min        0.0            1.0             9.0          10.0\n",
       "25%        4.0          115.0           152.0         171.0\n",
       "50%        4.0          338.0           250.0         299.0\n",
       "75%        4.0          922.0           420.0         508.0\n",
       "max        5.0        15528.0         13899.0       38000.0"
      ]
     },
     "execution_count": 15,
     "metadata": {},
     "output_type": "execute_result"
    }
   ],
   "source": [
    "df.describe().round()"
   ]
  },
  {
   "cell_type": "code",
   "execution_count": 16,
   "id": "096c39dd",
   "metadata": {
    "execution": {
     "iopub.execute_input": "2024-01-27T03:59:39.430522Z",
     "iopub.status.busy": "2024-01-27T03:59:39.430171Z",
     "iopub.status.idle": "2024-01-27T03:59:39.438503Z",
     "shell.execute_reply": "2024-01-27T03:59:39.437698Z"
    },
    "papermill": {
     "duration": 0.018207,
     "end_time": "2024-01-27T03:59:39.440328",
     "exception": false,
     "start_time": "2024-01-27T03:59:39.422121",
     "status": "completed"
    },
    "tags": []
   },
   "outputs": [
    {
     "data": {
      "text/plain": [
       "0"
      ]
     },
     "execution_count": 16,
     "metadata": {},
     "output_type": "execute_result"
    }
   ],
   "source": [
    "min_ratings = df['ratings'].min()\n",
    "df['ratings']=df['ratings'].fillna(min_ratings)\n",
    "df['ratings'].isna().sum()"
   ]
  },
  {
   "cell_type": "code",
   "execution_count": 17,
   "id": "ef22153b",
   "metadata": {
    "execution": {
     "iopub.execute_input": "2024-01-27T03:59:39.455695Z",
     "iopub.status.busy": "2024-01-27T03:59:39.455301Z",
     "iopub.status.idle": "2024-01-27T03:59:39.465560Z",
     "shell.execute_reply": "2024-01-27T03:59:39.464086Z"
    },
    "papermill": {
     "duration": 0.020368,
     "end_time": "2024-01-27T03:59:39.467773",
     "exception": false,
     "start_time": "2024-01-27T03:59:39.447405",
     "status": "completed"
    },
    "tags": []
   },
   "outputs": [
    {
     "data": {
      "text/plain": [
       "0"
      ]
     },
     "execution_count": 17,
     "metadata": {},
     "output_type": "execute_result"
    }
   ],
   "source": [
    "min_no_of_ratings = df['no_of_ratings'].min()\n",
    "df['no_of_ratings']=df['no_of_ratings'].fillna(min_no_of_ratings)\n",
    "df['no_of_ratings'].isna().sum()"
   ]
  },
  {
   "cell_type": "code",
   "execution_count": 18,
   "id": "a43133b5",
   "metadata": {
    "execution": {
     "iopub.execute_input": "2024-01-27T03:59:39.483624Z",
     "iopub.status.busy": "2024-01-27T03:59:39.483235Z",
     "iopub.status.idle": "2024-01-27T03:59:39.491419Z",
     "shell.execute_reply": "2024-01-27T03:59:39.489922Z"
    },
    "papermill": {
     "duration": 0.018348,
     "end_time": "2024-01-27T03:59:39.493213",
     "exception": false,
     "start_time": "2024-01-27T03:59:39.474865",
     "status": "completed"
    },
    "tags": []
   },
   "outputs": [
    {
     "data": {
      "text/plain": [
       "0"
      ]
     },
     "execution_count": 18,
     "metadata": {},
     "output_type": "execute_result"
    }
   ],
   "source": [
    "df['discount_price'] = df['discount_price'].fillna(0)\n",
    "df['discount_price'].isna().sum()"
   ]
  },
  {
   "cell_type": "code",
   "execution_count": 19,
   "id": "65ba09e6",
   "metadata": {
    "execution": {
     "iopub.execute_input": "2024-01-27T03:59:39.508678Z",
     "iopub.status.busy": "2024-01-27T03:59:39.508339Z",
     "iopub.status.idle": "2024-01-27T03:59:39.518229Z",
     "shell.execute_reply": "2024-01-27T03:59:39.517231Z"
    },
    "papermill": {
     "duration": 0.019887,
     "end_time": "2024-01-27T03:59:39.520232",
     "exception": false,
     "start_time": "2024-01-27T03:59:39.500345",
     "status": "completed"
    },
    "tags": []
   },
   "outputs": [
    {
     "data": {
      "text/plain": [
       "0"
      ]
     },
     "execution_count": 19,
     "metadata": {},
     "output_type": "execute_result"
    }
   ],
   "source": [
    "min_actual=df['actual_price'].min()\n",
    "df['actual_price'] = df['actual_price'].fillna(min_actual)\n",
    "df['actual_price'].isna().sum()"
   ]
  },
  {
   "cell_type": "code",
   "execution_count": 20,
   "id": "c99d6756",
   "metadata": {
    "execution": {
     "iopub.execute_input": "2024-01-27T03:59:39.536641Z",
     "iopub.status.busy": "2024-01-27T03:59:39.536259Z",
     "iopub.status.idle": "2024-01-27T03:59:39.551595Z",
     "shell.execute_reply": "2024-01-27T03:59:39.550040Z"
    },
    "papermill": {
     "duration": 0.025953,
     "end_time": "2024-01-27T03:59:39.553657",
     "exception": false,
     "start_time": "2024-01-27T03:59:39.527704",
     "status": "completed"
    },
    "tags": []
   },
   "outputs": [
    {
     "data": {
      "text/html": [
       "<div>\n",
       "<style scoped>\n",
       "    .dataframe tbody tr th:only-of-type {\n",
       "        vertical-align: middle;\n",
       "    }\n",
       "\n",
       "    .dataframe tbody tr th {\n",
       "        vertical-align: top;\n",
       "    }\n",
       "\n",
       "    .dataframe thead th {\n",
       "        text-align: right;\n",
       "    }\n",
       "</style>\n",
       "<table border=\"1\" class=\"dataframe\">\n",
       "  <thead>\n",
       "    <tr style=\"text-align: right;\">\n",
       "      <th></th>\n",
       "      <th>name</th>\n",
       "      <th>main_category</th>\n",
       "      <th>sub_category</th>\n",
       "      <th>image</th>\n",
       "      <th>link</th>\n",
       "      <th>ratings</th>\n",
       "      <th>no_of_ratings</th>\n",
       "      <th>discount_price</th>\n",
       "      <th>actual_price</th>\n",
       "    </tr>\n",
       "  </thead>\n",
       "  <tbody>\n",
       "    <tr>\n",
       "      <th>0</th>\n",
       "      <td>Nutraj 100% Natural Dried Premium California W...</td>\n",
       "      <td>grocery &amp; gourmet foods</td>\n",
       "      <td>All Grocery &amp; Gourmet Foods</td>\n",
       "      <td>https://m.media-amazon.com/images/I/71f5UPOWDq...</td>\n",
       "      <td>https://www.amazon.in/Nutraj-California-Walnut...</td>\n",
       "      <td>3.9</td>\n",
       "      <td>6081.0</td>\n",
       "      <td>686.0</td>\n",
       "      <td>998.0</td>\n",
       "    </tr>\n",
       "    <tr>\n",
       "      <th>1</th>\n",
       "      <td>Cadbury Bournvita 5 Star Magic Health Drink, 7...</td>\n",
       "      <td>grocery &amp; gourmet foods</td>\n",
       "      <td>All Grocery &amp; Gourmet Foods</td>\n",
       "      <td>https://m.media-amazon.com/images/I/614FIW5c6H...</td>\n",
       "      <td>https://www.amazon.in/Bournvita-Magic-Chocolat...</td>\n",
       "      <td>4.3</td>\n",
       "      <td>8481.0</td>\n",
       "      <td>0.0</td>\n",
       "      <td>353.0</td>\n",
       "    </tr>\n",
       "    <tr>\n",
       "      <th>2</th>\n",
       "      <td>Sugar Free Green Natural Stevia Jar(200 g)</td>\n",
       "      <td>grocery &amp; gourmet foods</td>\n",
       "      <td>All Grocery &amp; Gourmet Foods</td>\n",
       "      <td>https://m.media-amazon.com/images/I/61rBhkTJ6E...</td>\n",
       "      <td>https://www.amazon.in/Sugarfree-Green-100-Natu...</td>\n",
       "      <td>4.3</td>\n",
       "      <td>1585.0</td>\n",
       "      <td>162.0</td>\n",
       "      <td>170.0</td>\n",
       "    </tr>\n",
       "    <tr>\n",
       "      <th>3</th>\n",
       "      <td>Daawat Pulav, Long Grains, Fluffy Basmati for ...</td>\n",
       "      <td>grocery &amp; gourmet foods</td>\n",
       "      <td>All Grocery &amp; Gourmet Foods</td>\n",
       "      <td>https://m.media-amazon.com/images/I/71UO6eXC1Q...</td>\n",
       "      <td>https://www.amazon.in/Daawat-Pulav-Basmati-Ric...</td>\n",
       "      <td>4.3</td>\n",
       "      <td>3907.0</td>\n",
       "      <td>138.0</td>\n",
       "      <td>139.0</td>\n",
       "    </tr>\n",
       "    <tr>\n",
       "      <th>4</th>\n",
       "      <td>Tata Tea Gold | Assam teas with Gently Rolled ...</td>\n",
       "      <td>grocery &amp; gourmet foods</td>\n",
       "      <td>All Grocery &amp; Gourmet Foods</td>\n",
       "      <td>https://m.media-amazon.com/images/I/51kEujuYlp...</td>\n",
       "      <td>https://www.amazon.in/Tata-Tea-Gold-500g/dp/B0...</td>\n",
       "      <td>4.4</td>\n",
       "      <td>15528.0</td>\n",
       "      <td>283.0</td>\n",
       "      <td>295.0</td>\n",
       "    </tr>\n",
       "  </tbody>\n",
       "</table>\n",
       "</div>"
      ],
      "text/plain": [
       "                                                name            main_category  \\\n",
       "0  Nutraj 100% Natural Dried Premium California W...  grocery & gourmet foods   \n",
       "1  Cadbury Bournvita 5 Star Magic Health Drink, 7...  grocery & gourmet foods   \n",
       "2         Sugar Free Green Natural Stevia Jar(200 g)  grocery & gourmet foods   \n",
       "3  Daawat Pulav, Long Grains, Fluffy Basmati for ...  grocery & gourmet foods   \n",
       "4  Tata Tea Gold | Assam teas with Gently Rolled ...  grocery & gourmet foods   \n",
       "\n",
       "                  sub_category  \\\n",
       "0  All Grocery & Gourmet Foods   \n",
       "1  All Grocery & Gourmet Foods   \n",
       "2  All Grocery & Gourmet Foods   \n",
       "3  All Grocery & Gourmet Foods   \n",
       "4  All Grocery & Gourmet Foods   \n",
       "\n",
       "                                               image  \\\n",
       "0  https://m.media-amazon.com/images/I/71f5UPOWDq...   \n",
       "1  https://m.media-amazon.com/images/I/614FIW5c6H...   \n",
       "2  https://m.media-amazon.com/images/I/61rBhkTJ6E...   \n",
       "3  https://m.media-amazon.com/images/I/71UO6eXC1Q...   \n",
       "4  https://m.media-amazon.com/images/I/51kEujuYlp...   \n",
       "\n",
       "                                                link  ratings  no_of_ratings  \\\n",
       "0  https://www.amazon.in/Nutraj-California-Walnut...      3.9         6081.0   \n",
       "1  https://www.amazon.in/Bournvita-Magic-Chocolat...      4.3         8481.0   \n",
       "2  https://www.amazon.in/Sugarfree-Green-100-Natu...      4.3         1585.0   \n",
       "3  https://www.amazon.in/Daawat-Pulav-Basmati-Ric...      4.3         3907.0   \n",
       "4  https://www.amazon.in/Tata-Tea-Gold-500g/dp/B0...      4.4        15528.0   \n",
       "\n",
       "   discount_price  actual_price  \n",
       "0           686.0         998.0  \n",
       "1             0.0         353.0  \n",
       "2           162.0         170.0  \n",
       "3           138.0         139.0  \n",
       "4           283.0         295.0  "
      ]
     },
     "execution_count": 20,
     "metadata": {},
     "output_type": "execute_result"
    }
   ],
   "source": [
    "df.head()"
   ]
  },
  {
   "cell_type": "code",
   "execution_count": null,
   "id": "6b97497d",
   "metadata": {
    "papermill": {
     "duration": 0.007252,
     "end_time": "2024-01-27T03:59:39.568408",
     "exception": false,
     "start_time": "2024-01-27T03:59:39.561156",
     "status": "completed"
    },
    "tags": []
   },
   "outputs": [],
   "source": []
  }
 ],
 "metadata": {
  "kaggle": {
   "accelerator": "none",
   "dataSources": [
    {
     "datasetId": 3020336,
     "sourceId": 5239462,
     "sourceType": "datasetVersion"
    }
   ],
   "dockerImageVersionId": 30635,
   "isGpuEnabled": false,
   "isInternetEnabled": false,
   "language": "python",
   "sourceType": "notebook"
  },
  "kernelspec": {
   "display_name": "Python 3",
   "language": "python",
   "name": "python3"
  },
  "language_info": {
   "codemirror_mode": {
    "name": "ipython",
    "version": 3
   },
   "file_extension": ".py",
   "mimetype": "text/x-python",
   "name": "python",
   "nbconvert_exporter": "python",
   "pygments_lexer": "ipython3",
   "version": "3.10.12"
  },
  "papermill": {
   "default_parameters": {},
   "duration": 5.876978,
   "end_time": "2024-01-27T03:59:40.098473",
   "environment_variables": {},
   "exception": null,
   "input_path": "__notebook__.ipynb",
   "output_path": "__notebook__.ipynb",
   "parameters": {},
   "start_time": "2024-01-27T03:59:34.221495",
   "version": "2.4.0"
  }
 },
 "nbformat": 4,
 "nbformat_minor": 5
}
