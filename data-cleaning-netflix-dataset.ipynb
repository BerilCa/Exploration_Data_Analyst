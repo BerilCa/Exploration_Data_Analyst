{
 "cells": [
  {
   "cell_type": "code",
   "execution_count": 1,
   "id": "a15a9b8e",
   "metadata": {
    "_cell_guid": "b1076dfc-b9ad-4769-8c92-a6c4dae69d19",
    "_uuid": "8f2839f25d086af736a60e9eeb907d3b93b6e0e5",
    "execution": {
     "iopub.execute_input": "2024-01-17T04:37:03.702302Z",
     "iopub.status.busy": "2024-01-17T04:37:03.701659Z",
     "iopub.status.idle": "2024-01-17T04:37:04.242375Z",
     "shell.execute_reply": "2024-01-17T04:37:04.240812Z"
    },
    "papermill": {
     "duration": 0.5563,
     "end_time": "2024-01-17T04:37:04.245412",
     "exception": false,
     "start_time": "2024-01-17T04:37:03.689112",
     "status": "completed"
    },
    "tags": []
   },
   "outputs": [
    {
     "name": "stdout",
     "output_type": "stream",
     "text": [
      "/kaggle/input/netflix-rotten-tomatoes-metacritic-imdb/netflix-rotten-tomatoes-metacritic-imdb.csv\n"
     ]
    }
   ],
   "source": [
    "# This Python 3 environment comes with many helpful analytics libraries installed\n",
    "# It is defined by the kaggle/python Docker image: https://github.com/kaggle/docker-python\n",
    "# For example, here's several helpful packages to load\n",
    "\n",
    "import numpy as np # linear algebra\n",
    "import pandas as pd # data processing, CSV file I/O (e.g. pd.read_csv)\n",
    "\n",
    "# Input data files are available in the read-only \"../input/\" directory\n",
    "# For example, running this (by clicking run or pressing Shift+Enter) will list all files under the input directory\n",
    "\n",
    "import os\n",
    "for dirname, _, filenames in os.walk('/kaggle/input'):\n",
    "    for filename in filenames:\n",
    "        print(os.path.join(dirname, filename))\n",
    "\n",
    "# You can write up to 20GB to the current directory (/kaggle/working/) that gets preserved as output when you create a version using \"Save & Run All\" \n",
    "# You can also write temporary files to /kaggle/temp/, but they won't be saved outside of the current session"
   ]
  },
  {
   "cell_type": "code",
   "execution_count": 2,
   "id": "2aa56630",
   "metadata": {
    "execution": {
     "iopub.execute_input": "2024-01-17T04:37:04.263823Z",
     "iopub.status.busy": "2024-01-17T04:37:04.263138Z",
     "iopub.status.idle": "2024-01-17T04:37:05.968740Z",
     "shell.execute_reply": "2024-01-17T04:37:05.967233Z"
    },
    "papermill": {
     "duration": 1.718645,
     "end_time": "2024-01-17T04:37:05.972020",
     "exception": false,
     "start_time": "2024-01-17T04:37:04.253375",
     "status": "completed"
    },
    "tags": []
   },
   "outputs": [],
   "source": [
    "import pandas as pd\n",
    "import numpy as np \n",
    "import matplotlib.pylab as plt\n",
    "import seaborn as sns\n",
    "plt.style.use('_mpl-gallery')\n",
    "pd.set_option(\"display.max_columns\", 300)"
   ]
  },
  {
   "cell_type": "code",
   "execution_count": 3,
   "id": "de24a664",
   "metadata": {
    "execution": {
     "iopub.execute_input": "2024-01-17T04:37:05.990449Z",
     "iopub.status.busy": "2024-01-17T04:37:05.989465Z",
     "iopub.status.idle": "2024-01-17T04:37:06.765436Z",
     "shell.execute_reply": "2024-01-17T04:37:06.763992Z"
    },
    "papermill": {
     "duration": 0.78923,
     "end_time": "2024-01-17T04:37:06.768856",
     "exception": false,
     "start_time": "2024-01-17T04:37:05.979626",
     "status": "completed"
    },
    "tags": []
   },
   "outputs": [
    {
     "data": {
      "text/html": [
       "<div>\n",
       "<style scoped>\n",
       "    .dataframe tbody tr th:only-of-type {\n",
       "        vertical-align: middle;\n",
       "    }\n",
       "\n",
       "    .dataframe tbody tr th {\n",
       "        vertical-align: top;\n",
       "    }\n",
       "\n",
       "    .dataframe thead th {\n",
       "        text-align: right;\n",
       "    }\n",
       "</style>\n",
       "<table border=\"1\" class=\"dataframe\">\n",
       "  <thead>\n",
       "    <tr style=\"text-align: right;\">\n",
       "      <th></th>\n",
       "      <th>Title</th>\n",
       "      <th>Genre</th>\n",
       "      <th>Tags</th>\n",
       "      <th>Languages</th>\n",
       "      <th>Series or Movie</th>\n",
       "      <th>Hidden Gem Score</th>\n",
       "      <th>Country Availability</th>\n",
       "      <th>Runtime</th>\n",
       "      <th>Director</th>\n",
       "      <th>Writer</th>\n",
       "      <th>Actors</th>\n",
       "      <th>View Rating</th>\n",
       "      <th>IMDb Score</th>\n",
       "      <th>Rotten Tomatoes Score</th>\n",
       "      <th>Metacritic Score</th>\n",
       "      <th>Awards Received</th>\n",
       "      <th>Awards Nominated For</th>\n",
       "      <th>Boxoffice</th>\n",
       "      <th>Release Date</th>\n",
       "      <th>Netflix Release Date</th>\n",
       "      <th>Production House</th>\n",
       "      <th>Netflix Link</th>\n",
       "      <th>IMDb Link</th>\n",
       "      <th>Summary</th>\n",
       "      <th>IMDb Votes</th>\n",
       "      <th>Image</th>\n",
       "      <th>Poster</th>\n",
       "      <th>TMDb Trailer</th>\n",
       "      <th>Trailer Site</th>\n",
       "    </tr>\n",
       "  </thead>\n",
       "  <tbody>\n",
       "    <tr>\n",
       "      <th>0</th>\n",
       "      <td>Lets Fight Ghost</td>\n",
       "      <td>Crime, Drama, Fantasy, Horror, Romance</td>\n",
       "      <td>Comedy Programmes,Romantic TV Comedies,Horror ...</td>\n",
       "      <td>Swedish, Spanish</td>\n",
       "      <td>Series</td>\n",
       "      <td>4.3</td>\n",
       "      <td>Thailand</td>\n",
       "      <td>&lt; 30 minutes</td>\n",
       "      <td>Tomas Alfredson</td>\n",
       "      <td>John Ajvide Lindqvist</td>\n",
       "      <td>Kåre Hedebrant, Per Ragnar, Lina Leandersson, ...</td>\n",
       "      <td>R</td>\n",
       "      <td>7.9</td>\n",
       "      <td>98.0</td>\n",
       "      <td>82.0</td>\n",
       "      <td>74.0</td>\n",
       "      <td>57.0</td>\n",
       "      <td>$2,122,065</td>\n",
       "      <td>12 Dec 2008</td>\n",
       "      <td>2021-03-04</td>\n",
       "      <td>Canal+, Sandrew Metronome</td>\n",
       "      <td>https://www.netflix.com/watch/81415947</td>\n",
       "      <td>https://www.imdb.com/title/tt1139797</td>\n",
       "      <td>A med student with a supernatural gift tries t...</td>\n",
       "      <td>205926.0</td>\n",
       "      <td>https://occ-0-4708-64.1.nflxso.net/dnm/api/v6/...</td>\n",
       "      <td>https://m.media-amazon.com/images/M/MV5BOWM4NT...</td>\n",
       "      <td>NaN</td>\n",
       "      <td>NaN</td>\n",
       "    </tr>\n",
       "    <tr>\n",
       "      <th>1</th>\n",
       "      <td>HOW TO BUILD A GIRL</td>\n",
       "      <td>Comedy</td>\n",
       "      <td>Dramas,Comedies,Films Based on Books,British</td>\n",
       "      <td>English</td>\n",
       "      <td>Movie</td>\n",
       "      <td>7.0</td>\n",
       "      <td>Canada</td>\n",
       "      <td>1-2 hour</td>\n",
       "      <td>Coky Giedroyc</td>\n",
       "      <td>Caitlin Moran</td>\n",
       "      <td>Paddy Considine, Cleo, Beanie Feldstein, Dónal...</td>\n",
       "      <td>R</td>\n",
       "      <td>5.8</td>\n",
       "      <td>79.0</td>\n",
       "      <td>69.0</td>\n",
       "      <td>1.0</td>\n",
       "      <td>NaN</td>\n",
       "      <td>$70,632</td>\n",
       "      <td>08 May 2020</td>\n",
       "      <td>2021-03-04</td>\n",
       "      <td>Film 4, Monumental Pictures, Lionsgate</td>\n",
       "      <td>https://www.netflix.com/watch/81041267</td>\n",
       "      <td>https://www.imdb.com/title/tt4193072</td>\n",
       "      <td>When nerdy Johanna moves to London, things get...</td>\n",
       "      <td>2838.0</td>\n",
       "      <td>https://occ-0-1081-999.1.nflxso.net/dnm/api/v6...</td>\n",
       "      <td>https://m.media-amazon.com/images/M/MV5BZGUyN2...</td>\n",
       "      <td>https://www.youtube.com/watch?v=eIbcxPy4okQ</td>\n",
       "      <td>YouTube</td>\n",
       "    </tr>\n",
       "    <tr>\n",
       "      <th>2</th>\n",
       "      <td>Centigrade</td>\n",
       "      <td>Drama, Thriller</td>\n",
       "      <td>Thrillers</td>\n",
       "      <td>English</td>\n",
       "      <td>Movie</td>\n",
       "      <td>6.4</td>\n",
       "      <td>Canada</td>\n",
       "      <td>1-2 hour</td>\n",
       "      <td>Brendan Walsh</td>\n",
       "      <td>Brendan Walsh, Daley Nixon</td>\n",
       "      <td>Genesis Rodriguez, Vincent Piazza</td>\n",
       "      <td>Unrated</td>\n",
       "      <td>4.3</td>\n",
       "      <td>NaN</td>\n",
       "      <td>46.0</td>\n",
       "      <td>NaN</td>\n",
       "      <td>NaN</td>\n",
       "      <td>$16,263</td>\n",
       "      <td>28 Aug 2020</td>\n",
       "      <td>2021-03-04</td>\n",
       "      <td>NaN</td>\n",
       "      <td>https://www.netflix.com/watch/81305978</td>\n",
       "      <td>https://www.imdb.com/title/tt8945942</td>\n",
       "      <td>Trapped in a frozen car during a blizzard, a p...</td>\n",
       "      <td>1720.0</td>\n",
       "      <td>https://occ-0-1081-999.1.nflxso.net/dnm/api/v6...</td>\n",
       "      <td>https://m.media-amazon.com/images/M/MV5BODM2MD...</td>\n",
       "      <td>https://www.youtube.com/watch?v=0RvV7TNUlkQ</td>\n",
       "      <td>YouTube</td>\n",
       "    </tr>\n",
       "    <tr>\n",
       "      <th>3</th>\n",
       "      <td>ANNE+</td>\n",
       "      <td>Drama</td>\n",
       "      <td>TV Dramas,Romantic TV Dramas,Dutch TV Shows</td>\n",
       "      <td>Turkish</td>\n",
       "      <td>Series</td>\n",
       "      <td>7.7</td>\n",
       "      <td>Belgium,Netherlands</td>\n",
       "      <td>&lt; 30 minutes</td>\n",
       "      <td>NaN</td>\n",
       "      <td>NaN</td>\n",
       "      <td>Vahide Perçin, Gonca Vuslateri, Cansu Dere, Be...</td>\n",
       "      <td>NaN</td>\n",
       "      <td>6.5</td>\n",
       "      <td>NaN</td>\n",
       "      <td>NaN</td>\n",
       "      <td>1.0</td>\n",
       "      <td>NaN</td>\n",
       "      <td>NaN</td>\n",
       "      <td>01 Oct 2016</td>\n",
       "      <td>2021-03-04</td>\n",
       "      <td>NaN</td>\n",
       "      <td>https://www.netflix.com/watch/81336456</td>\n",
       "      <td>https://www.imdb.com/title/tt6132758</td>\n",
       "      <td>Upon moving into a new place, a 20-something r...</td>\n",
       "      <td>1147.0</td>\n",
       "      <td>https://occ-0-1489-1490.1.nflxso.net/dnm/api/v...</td>\n",
       "      <td>https://m.media-amazon.com/images/M/MV5BNWRkMz...</td>\n",
       "      <td>NaN</td>\n",
       "      <td>NaN</td>\n",
       "    </tr>\n",
       "    <tr>\n",
       "      <th>4</th>\n",
       "      <td>Moxie</td>\n",
       "      <td>Animation, Short, Drama</td>\n",
       "      <td>Social Issue Dramas,Teen Movies,Dramas,Comedie...</td>\n",
       "      <td>English</td>\n",
       "      <td>Movie</td>\n",
       "      <td>8.1</td>\n",
       "      <td>Lithuania,Poland,France,Iceland,Italy,Spain,Gr...</td>\n",
       "      <td>1-2 hour</td>\n",
       "      <td>Stephen Irwin</td>\n",
       "      <td>NaN</td>\n",
       "      <td>Ragga Gudrun</td>\n",
       "      <td>NaN</td>\n",
       "      <td>6.3</td>\n",
       "      <td>NaN</td>\n",
       "      <td>NaN</td>\n",
       "      <td>NaN</td>\n",
       "      <td>4.0</td>\n",
       "      <td>NaN</td>\n",
       "      <td>22 Sep 2011</td>\n",
       "      <td>2021-03-04</td>\n",
       "      <td>NaN</td>\n",
       "      <td>https://www.netflix.com/watch/81078393</td>\n",
       "      <td>https://www.imdb.com/title/tt2023611</td>\n",
       "      <td>Inspired by her moms rebellious past and a con...</td>\n",
       "      <td>63.0</td>\n",
       "      <td>https://occ-0-4039-1500.1.nflxso.net/dnm/api/v...</td>\n",
       "      <td>https://m.media-amazon.com/images/M/MV5BODYyNW...</td>\n",
       "      <td>NaN</td>\n",
       "      <td>NaN</td>\n",
       "    </tr>\n",
       "  </tbody>\n",
       "</table>\n",
       "</div>"
      ],
      "text/plain": [
       "                 Title                                   Genre  \\\n",
       "0     Lets Fight Ghost  Crime, Drama, Fantasy, Horror, Romance   \n",
       "1  HOW TO BUILD A GIRL                                  Comedy   \n",
       "2           Centigrade                         Drama, Thriller   \n",
       "3                ANNE+                                   Drama   \n",
       "4                Moxie                 Animation, Short, Drama   \n",
       "\n",
       "                                                Tags         Languages  \\\n",
       "0  Comedy Programmes,Romantic TV Comedies,Horror ...  Swedish, Spanish   \n",
       "1       Dramas,Comedies,Films Based on Books,British           English   \n",
       "2                                          Thrillers           English   \n",
       "3        TV Dramas,Romantic TV Dramas,Dutch TV Shows           Turkish   \n",
       "4  Social Issue Dramas,Teen Movies,Dramas,Comedie...           English   \n",
       "\n",
       "  Series or Movie  Hidden Gem Score  \\\n",
       "0          Series               4.3   \n",
       "1           Movie               7.0   \n",
       "2           Movie               6.4   \n",
       "3          Series               7.7   \n",
       "4           Movie               8.1   \n",
       "\n",
       "                                Country Availability       Runtime  \\\n",
       "0                                           Thailand  < 30 minutes   \n",
       "1                                             Canada      1-2 hour   \n",
       "2                                             Canada      1-2 hour   \n",
       "3                                Belgium,Netherlands  < 30 minutes   \n",
       "4  Lithuania,Poland,France,Iceland,Italy,Spain,Gr...      1-2 hour   \n",
       "\n",
       "          Director                      Writer  \\\n",
       "0  Tomas Alfredson       John Ajvide Lindqvist   \n",
       "1    Coky Giedroyc               Caitlin Moran   \n",
       "2    Brendan Walsh  Brendan Walsh, Daley Nixon   \n",
       "3              NaN                         NaN   \n",
       "4    Stephen Irwin                         NaN   \n",
       "\n",
       "                                              Actors View Rating  IMDb Score  \\\n",
       "0  Kåre Hedebrant, Per Ragnar, Lina Leandersson, ...           R         7.9   \n",
       "1  Paddy Considine, Cleo, Beanie Feldstein, Dónal...           R         5.8   \n",
       "2                  Genesis Rodriguez, Vincent Piazza     Unrated         4.3   \n",
       "3  Vahide Perçin, Gonca Vuslateri, Cansu Dere, Be...         NaN         6.5   \n",
       "4                                       Ragga Gudrun         NaN         6.3   \n",
       "\n",
       "   Rotten Tomatoes Score  Metacritic Score  Awards Received  \\\n",
       "0                   98.0              82.0             74.0   \n",
       "1                   79.0              69.0              1.0   \n",
       "2                    NaN              46.0              NaN   \n",
       "3                    NaN               NaN              1.0   \n",
       "4                    NaN               NaN              NaN   \n",
       "\n",
       "   Awards Nominated For   Boxoffice Release Date Netflix Release Date  \\\n",
       "0                  57.0  $2,122,065  12 Dec 2008           2021-03-04   \n",
       "1                   NaN     $70,632  08 May 2020           2021-03-04   \n",
       "2                   NaN     $16,263  28 Aug 2020           2021-03-04   \n",
       "3                   NaN         NaN  01 Oct 2016           2021-03-04   \n",
       "4                   4.0         NaN  22 Sep 2011           2021-03-04   \n",
       "\n",
       "                         Production House  \\\n",
       "0               Canal+, Sandrew Metronome   \n",
       "1  Film 4, Monumental Pictures, Lionsgate   \n",
       "2                                     NaN   \n",
       "3                                     NaN   \n",
       "4                                     NaN   \n",
       "\n",
       "                             Netflix Link  \\\n",
       "0  https://www.netflix.com/watch/81415947   \n",
       "1  https://www.netflix.com/watch/81041267   \n",
       "2  https://www.netflix.com/watch/81305978   \n",
       "3  https://www.netflix.com/watch/81336456   \n",
       "4  https://www.netflix.com/watch/81078393   \n",
       "\n",
       "                              IMDb Link  \\\n",
       "0  https://www.imdb.com/title/tt1139797   \n",
       "1  https://www.imdb.com/title/tt4193072   \n",
       "2  https://www.imdb.com/title/tt8945942   \n",
       "3  https://www.imdb.com/title/tt6132758   \n",
       "4  https://www.imdb.com/title/tt2023611   \n",
       "\n",
       "                                             Summary  IMDb Votes  \\\n",
       "0  A med student with a supernatural gift tries t...    205926.0   \n",
       "1  When nerdy Johanna moves to London, things get...      2838.0   \n",
       "2  Trapped in a frozen car during a blizzard, a p...      1720.0   \n",
       "3  Upon moving into a new place, a 20-something r...      1147.0   \n",
       "4  Inspired by her moms rebellious past and a con...        63.0   \n",
       "\n",
       "                                               Image  \\\n",
       "0  https://occ-0-4708-64.1.nflxso.net/dnm/api/v6/...   \n",
       "1  https://occ-0-1081-999.1.nflxso.net/dnm/api/v6...   \n",
       "2  https://occ-0-1081-999.1.nflxso.net/dnm/api/v6...   \n",
       "3  https://occ-0-1489-1490.1.nflxso.net/dnm/api/v...   \n",
       "4  https://occ-0-4039-1500.1.nflxso.net/dnm/api/v...   \n",
       "\n",
       "                                              Poster  \\\n",
       "0  https://m.media-amazon.com/images/M/MV5BOWM4NT...   \n",
       "1  https://m.media-amazon.com/images/M/MV5BZGUyN2...   \n",
       "2  https://m.media-amazon.com/images/M/MV5BODM2MD...   \n",
       "3  https://m.media-amazon.com/images/M/MV5BNWRkMz...   \n",
       "4  https://m.media-amazon.com/images/M/MV5BODYyNW...   \n",
       "\n",
       "                                  TMDb Trailer Trailer Site  \n",
       "0                                          NaN          NaN  \n",
       "1  https://www.youtube.com/watch?v=eIbcxPy4okQ      YouTube  \n",
       "2  https://www.youtube.com/watch?v=0RvV7TNUlkQ      YouTube  \n",
       "3                                          NaN          NaN  \n",
       "4                                          NaN          NaN  "
      ]
     },
     "execution_count": 3,
     "metadata": {},
     "output_type": "execute_result"
    }
   ],
   "source": [
    "df = pd.read_csv('/kaggle/input/netflix-rotten-tomatoes-metacritic-imdb/netflix-rotten-tomatoes-metacritic-imdb.csv')\n",
    "df.head()"
   ]
  },
  {
   "cell_type": "code",
   "execution_count": 4,
   "id": "fc2982c8",
   "metadata": {
    "execution": {
     "iopub.execute_input": "2024-01-17T04:37:06.789464Z",
     "iopub.status.busy": "2024-01-17T04:37:06.788108Z",
     "iopub.status.idle": "2024-01-17T04:37:06.993686Z",
     "shell.execute_reply": "2024-01-17T04:37:06.990719Z"
    },
    "papermill": {
     "duration": 0.221595,
     "end_time": "2024-01-17T04:37:06.999350",
     "exception": false,
     "start_time": "2024-01-17T04:37:06.777755",
     "status": "completed"
    },
    "tags": []
   },
   "outputs": [
    {
     "name": "stdout",
     "output_type": "stream",
     "text": [
      "<class 'pandas.core.frame.DataFrame'>\n",
      "RangeIndex: 15480 entries, 0 to 15479\n",
      "Data columns (total 29 columns):\n",
      " #   Column                 Non-Null Count  Dtype  \n",
      "---  ------                 --------------  -----  \n",
      " 0   Title                  15480 non-null  object \n",
      " 1   Genre                  13770 non-null  object \n",
      " 2   Tags                   15413 non-null  object \n",
      " 3   Languages              13526 non-null  object \n",
      " 4   Series or Movie        15480 non-null  object \n",
      " 5   Hidden Gem Score       13379 non-null  float64\n",
      " 6   Country Availability   15461 non-null  object \n",
      " 7   Runtime                15479 non-null  object \n",
      " 8   Director               10772 non-null  object \n",
      " 9   Writer                 11150 non-null  object \n",
      " 10  Actors                 13555 non-null  object \n",
      " 11  View Rating            8456 non-null   object \n",
      " 12  IMDb Score             13381 non-null  float64\n",
      " 13  Rotten Tomatoes Score  6382 non-null   float64\n",
      " 14  Metacritic Score       4336 non-null   float64\n",
      " 15  Awards Received        6075 non-null   float64\n",
      " 16  Awards Nominated For   7661 non-null   float64\n",
      " 17  Boxoffice              4007 non-null   object \n",
      " 18  Release Date           13373 non-null  object \n",
      " 19  Netflix Release Date   15480 non-null  object \n",
      " 20  Production House       5149 non-null   object \n",
      " 21  Netflix Link           15480 non-null  object \n",
      " 22  IMDb Link              13177 non-null  object \n",
      " 23  Summary                15471 non-null  object \n",
      " 24  IMDb Votes             13379 non-null  float64\n",
      " 25  Image                  15480 non-null  object \n",
      " 26  Poster                 11842 non-null  object \n",
      " 27  TMDb Trailer           7194 non-null   object \n",
      " 28  Trailer Site           7194 non-null   object \n",
      "dtypes: float64(7), object(22)\n",
      "memory usage: 3.4+ MB\n"
     ]
    }
   ],
   "source": [
    "df.info()"
   ]
  },
  {
   "cell_type": "markdown",
   "id": "c7478004",
   "metadata": {
    "papermill": {
     "duration": 0.009366,
     "end_time": "2024-01-17T04:37:07.019687",
     "exception": false,
     "start_time": "2024-01-17T04:37:07.010321",
     "status": "completed"
    },
    "tags": []
   },
   "source": [
    "**Data Cleaning**"
   ]
  },
  {
   "cell_type": "markdown",
   "id": "f25452fa",
   "metadata": {
    "papermill": {
     "duration": 0.008274,
     "end_time": "2024-01-17T04:37:07.037416",
     "exception": false,
     "start_time": "2024-01-17T04:37:07.029142",
     "status": "completed"
    },
    "tags": []
   },
   "source": [
    "handle missing values"
   ]
  },
  {
   "cell_type": "code",
   "execution_count": 5,
   "id": "8b764e64",
   "metadata": {
    "execution": {
     "iopub.execute_input": "2024-01-17T04:37:07.058463Z",
     "iopub.status.busy": "2024-01-17T04:37:07.057078Z",
     "iopub.status.idle": "2024-01-17T04:37:07.065951Z",
     "shell.execute_reply": "2024-01-17T04:37:07.064624Z"
    },
    "papermill": {
     "duration": 0.022473,
     "end_time": "2024-01-17T04:37:07.068755",
     "exception": false,
     "start_time": "2024-01-17T04:37:07.046282",
     "status": "completed"
    },
    "tags": []
   },
   "outputs": [
    {
     "data": {
      "text/plain": [
       "(15480, 29)"
      ]
     },
     "execution_count": 5,
     "metadata": {},
     "output_type": "execute_result"
    }
   ],
   "source": [
    "df.shape"
   ]
  },
  {
   "cell_type": "code",
   "execution_count": 6,
   "id": "c46ed95a",
   "metadata": {
    "execution": {
     "iopub.execute_input": "2024-01-17T04:37:07.090615Z",
     "iopub.status.busy": "2024-01-17T04:37:07.089585Z",
     "iopub.status.idle": "2024-01-17T04:37:07.147177Z",
     "shell.execute_reply": "2024-01-17T04:37:07.145051Z"
    },
    "papermill": {
     "duration": 0.07475,
     "end_time": "2024-01-17T04:37:07.152423",
     "exception": false,
     "start_time": "2024-01-17T04:37:07.077673",
     "status": "completed"
    },
    "tags": []
   },
   "outputs": [
    {
     "name": "stdout",
     "output_type": "stream",
     "text": [
      "percentage of missing values\n"
     ]
    },
    {
     "data": {
      "text/plain": [
       "Title                     0.000000\n",
       "Genre                    11.046512\n",
       "Tags                      0.432817\n",
       "Languages                12.622739\n",
       "Series or Movie           0.000000\n",
       "Hidden Gem Score         13.572351\n",
       "Country Availability      0.122739\n",
       "Runtime                   0.006460\n",
       "Director                 30.413437\n",
       "Writer                   27.971576\n",
       "Actors                   12.435401\n",
       "View Rating              45.374677\n",
       "IMDb Score               13.559432\n",
       "Rotten Tomatoes Score    58.772610\n",
       "Metacritic Score         71.989664\n",
       "Awards Received          60.755814\n",
       "Awards Nominated For     50.510336\n",
       "Boxoffice                74.114987\n",
       "Release Date             13.611111\n",
       "Netflix Release Date      0.000000\n",
       "Production House         66.737726\n",
       "Netflix Link              0.000000\n",
       "IMDb Link                14.877261\n",
       "Summary                   0.058140\n",
       "IMDb Votes               13.572351\n",
       "Image                     0.000000\n",
       "Poster                   23.501292\n",
       "TMDb Trailer             53.527132\n",
       "Trailer Site             53.527132\n",
       "dtype: float64"
      ]
     },
     "execution_count": 6,
     "metadata": {},
     "output_type": "execute_result"
    }
   ],
   "source": [
    "print(\"percentage of missing values\")\n",
    "df.isna().sum()/15480*100"
   ]
  },
  {
   "cell_type": "code",
   "execution_count": 7,
   "id": "b753849a",
   "metadata": {
    "execution": {
     "iopub.execute_input": "2024-01-17T04:37:07.177097Z",
     "iopub.status.busy": "2024-01-17T04:37:07.175115Z",
     "iopub.status.idle": "2024-01-17T04:37:07.193273Z",
     "shell.execute_reply": "2024-01-17T04:37:07.191638Z"
    },
    "papermill": {
     "duration": 0.033391,
     "end_time": "2024-01-17T04:37:07.197165",
     "exception": false,
     "start_time": "2024-01-17T04:37:07.163774",
     "status": "completed"
    },
    "tags": []
   },
   "outputs": [],
   "source": [
    "#remove columns that have too high a percentage of missing values\n",
    "df = df.drop(columns = ['Boxoffice', 'Metacritic Score', 'TMDb Trailer', 'Trailer Site', 'Poster'], axis=1)"
   ]
  },
  {
   "cell_type": "code",
   "execution_count": 8,
   "id": "3ce64c01",
   "metadata": {
    "execution": {
     "iopub.execute_input": "2024-01-17T04:37:07.219466Z",
     "iopub.status.busy": "2024-01-17T04:37:07.217890Z",
     "iopub.status.idle": "2024-01-17T04:37:07.291462Z",
     "shell.execute_reply": "2024-01-17T04:37:07.289791Z"
    },
    "papermill": {
     "duration": 0.088351,
     "end_time": "2024-01-17T04:37:07.294974",
     "exception": false,
     "start_time": "2024-01-17T04:37:07.206623",
     "status": "completed"
    },
    "tags": []
   },
   "outputs": [
    {
     "data": {
      "text/plain": [
       "Title                       0\n",
       "Genre                    1710\n",
       "Tags                       67\n",
       "Languages                1954\n",
       "Series or Movie             0\n",
       "Country Availability       19\n",
       "Runtime                     1\n",
       "Director                 4708\n",
       "Writer                   4330\n",
       "Actors                   1925\n",
       "View Rating              7024\n",
       "Release Date             2107\n",
       "Netflix Release Date        0\n",
       "Production House        10331\n",
       "Netflix Link                0\n",
       "IMDb Link                2303\n",
       "Summary                     9\n",
       "Image                       0\n",
       "dtype: int64"
      ]
     },
     "execution_count": 8,
     "metadata": {},
     "output_type": "execute_result"
    }
   ],
   "source": [
    "#percentage of missing values in columns that have object data type\n",
    "object_kolumns = df.select_dtypes(include=['object']).columns\n",
    "df_object=df[object_kolumns]\n",
    "df_object.isna().sum()"
   ]
  },
  {
   "cell_type": "code",
   "execution_count": 9,
   "id": "72c91160",
   "metadata": {
    "execution": {
     "iopub.execute_input": "2024-01-17T04:37:07.319222Z",
     "iopub.status.busy": "2024-01-17T04:37:07.317383Z",
     "iopub.status.idle": "2024-01-17T04:37:07.389591Z",
     "shell.execute_reply": "2024-01-17T04:37:07.388016Z"
    },
    "papermill": {
     "duration": 0.088413,
     "end_time": "2024-01-17T04:37:07.393799",
     "exception": false,
     "start_time": "2024-01-17T04:37:07.305386",
     "status": "completed"
    },
    "tags": []
   },
   "outputs": [],
   "source": [
    "#resolve missing values in columns that have object data type\n",
    "columns_to_fill = ['Genre', 'Tags', 'Languages', 'Country Availability', 'Director', 'Writer', 'Actors', 'Release Date', 'Production House', 'IMDb Link', 'Summary']\n",
    "\n",
    "# Fill the missing value in the column with 'unknown'\n",
    "df[columns_to_fill] = df[columns_to_fill].fillna('unknown')\n",
    "\n",
    "# Fill in the missing values in the 'View Rating' and 'Runtime' columns\n",
    "df['View Rating'] = df['View Rating'].fillna('Unrated')\n",
    "df['Runtime'] = df['Runtime'].fillna('unknown')\n",
    "\n"
   ]
  },
  {
   "cell_type": "code",
   "execution_count": 10,
   "id": "c98aef05",
   "metadata": {
    "execution": {
     "iopub.execute_input": "2024-01-17T04:37:07.416865Z",
     "iopub.status.busy": "2024-01-17T04:37:07.416366Z",
     "iopub.status.idle": "2024-01-17T04:37:07.431838Z",
     "shell.execute_reply": "2024-01-17T04:37:07.430366Z"
    },
    "papermill": {
     "duration": 0.030668,
     "end_time": "2024-01-17T04:37:07.435007",
     "exception": false,
     "start_time": "2024-01-17T04:37:07.404339",
     "status": "completed"
    },
    "tags": []
   },
   "outputs": [
    {
     "data": {
      "text/plain": [
       "Hidden Gem Score         13.572351\n",
       "IMDb Score               13.559432\n",
       "Rotten Tomatoes Score    58.772610\n",
       "Awards Received          60.755814\n",
       "Awards Nominated For     50.510336\n",
       "IMDb Votes               13.572351\n",
       "dtype: float64"
      ]
     },
     "execution_count": 10,
     "metadata": {},
     "output_type": "execute_result"
    }
   ],
   "source": [
    "#percentage of missing values in columns that have float data type\n",
    "float_columns = df.select_dtypes(include=['float64']).columns\n",
    "float_object=df[float_columns]\n",
    "float_object.isna().sum()/15480*100"
   ]
  },
  {
   "cell_type": "code",
   "execution_count": 11,
   "id": "647ac8c1",
   "metadata": {
    "execution": {
     "iopub.execute_input": "2024-01-17T04:37:07.457680Z",
     "iopub.status.busy": "2024-01-17T04:37:07.456631Z",
     "iopub.status.idle": "2024-01-17T04:37:07.509976Z",
     "shell.execute_reply": "2024-01-17T04:37:07.508549Z"
    },
    "papermill": {
     "duration": 0.07021,
     "end_time": "2024-01-17T04:37:07.515379",
     "exception": false,
     "start_time": "2024-01-17T04:37:07.445169",
     "status": "completed"
    },
    "tags": []
   },
   "outputs": [
    {
     "data": {
      "text/html": [
       "<div>\n",
       "<style scoped>\n",
       "    .dataframe tbody tr th:only-of-type {\n",
       "        vertical-align: middle;\n",
       "    }\n",
       "\n",
       "    .dataframe tbody tr th {\n",
       "        vertical-align: top;\n",
       "    }\n",
       "\n",
       "    .dataframe thead th {\n",
       "        text-align: right;\n",
       "    }\n",
       "</style>\n",
       "<table border=\"1\" class=\"dataframe\">\n",
       "  <thead>\n",
       "    <tr style=\"text-align: right;\">\n",
       "      <th></th>\n",
       "      <th>Hidden Gem Score</th>\n",
       "      <th>IMDb Score</th>\n",
       "      <th>Rotten Tomatoes Score</th>\n",
       "      <th>Awards Received</th>\n",
       "      <th>Awards Nominated For</th>\n",
       "      <th>IMDb Votes</th>\n",
       "    </tr>\n",
       "  </thead>\n",
       "  <tbody>\n",
       "    <tr>\n",
       "      <th>count</th>\n",
       "      <td>13379.000000</td>\n",
       "      <td>13381.000000</td>\n",
       "      <td>6382.000000</td>\n",
       "      <td>6075.000000</td>\n",
       "      <td>7661.000000</td>\n",
       "      <td>1.337900e+04</td>\n",
       "    </tr>\n",
       "    <tr>\n",
       "      <th>mean</th>\n",
       "      <td>5.937551</td>\n",
       "      <td>6.496054</td>\n",
       "      <td>59.523034</td>\n",
       "      <td>8.764444</td>\n",
       "      <td>13.983161</td>\n",
       "      <td>4.272841e+04</td>\n",
       "    </tr>\n",
       "    <tr>\n",
       "      <th>std</th>\n",
       "      <td>2.250202</td>\n",
       "      <td>1.146910</td>\n",
       "      <td>26.999173</td>\n",
       "      <td>18.311171</td>\n",
       "      <td>29.821052</td>\n",
       "      <td>1.257012e+05</td>\n",
       "    </tr>\n",
       "    <tr>\n",
       "      <th>min</th>\n",
       "      <td>0.600000</td>\n",
       "      <td>1.000000</td>\n",
       "      <td>0.000000</td>\n",
       "      <td>1.000000</td>\n",
       "      <td>1.000000</td>\n",
       "      <td>5.000000e+00</td>\n",
       "    </tr>\n",
       "    <tr>\n",
       "      <th>25%</th>\n",
       "      <td>3.800000</td>\n",
       "      <td>5.800000</td>\n",
       "      <td>38.000000</td>\n",
       "      <td>1.000000</td>\n",
       "      <td>2.000000</td>\n",
       "      <td>4.035000e+02</td>\n",
       "    </tr>\n",
       "    <tr>\n",
       "      <th>50%</th>\n",
       "      <td>6.800000</td>\n",
       "      <td>6.600000</td>\n",
       "      <td>64.000000</td>\n",
       "      <td>3.000000</td>\n",
       "      <td>5.000000</td>\n",
       "      <td>2.322000e+03</td>\n",
       "    </tr>\n",
       "    <tr>\n",
       "      <th>75%</th>\n",
       "      <td>7.900000</td>\n",
       "      <td>7.300000</td>\n",
       "      <td>83.000000</td>\n",
       "      <td>8.000000</td>\n",
       "      <td>12.000000</td>\n",
       "      <td>2.089050e+04</td>\n",
       "    </tr>\n",
       "    <tr>\n",
       "      <th>max</th>\n",
       "      <td>9.800000</td>\n",
       "      <td>9.700000</td>\n",
       "      <td>100.000000</td>\n",
       "      <td>300.000000</td>\n",
       "      <td>386.000000</td>\n",
       "      <td>2.354197e+06</td>\n",
       "    </tr>\n",
       "  </tbody>\n",
       "</table>\n",
       "</div>"
      ],
      "text/plain": [
       "       Hidden Gem Score    IMDb Score  Rotten Tomatoes Score  Awards Received  \\\n",
       "count      13379.000000  13381.000000            6382.000000      6075.000000   \n",
       "mean           5.937551      6.496054              59.523034         8.764444   \n",
       "std            2.250202      1.146910              26.999173        18.311171   \n",
       "min            0.600000      1.000000               0.000000         1.000000   \n",
       "25%            3.800000      5.800000              38.000000         1.000000   \n",
       "50%            6.800000      6.600000              64.000000         3.000000   \n",
       "75%            7.900000      7.300000              83.000000         8.000000   \n",
       "max            9.800000      9.700000             100.000000       300.000000   \n",
       "\n",
       "       Awards Nominated For    IMDb Votes  \n",
       "count           7661.000000  1.337900e+04  \n",
       "mean              13.983161  4.272841e+04  \n",
       "std               29.821052  1.257012e+05  \n",
       "min                1.000000  5.000000e+00  \n",
       "25%                2.000000  4.035000e+02  \n",
       "50%                5.000000  2.322000e+03  \n",
       "75%               12.000000  2.089050e+04  \n",
       "max              386.000000  2.354197e+06  "
      ]
     },
     "execution_count": 11,
     "metadata": {},
     "output_type": "execute_result"
    }
   ],
   "source": [
    "float_object.describe()"
   ]
  },
  {
   "cell_type": "code",
   "execution_count": 12,
   "id": "25a07087",
   "metadata": {
    "execution": {
     "iopub.execute_input": "2024-01-17T04:37:07.539896Z",
     "iopub.status.busy": "2024-01-17T04:37:07.538692Z",
     "iopub.status.idle": "2024-01-17T04:37:07.548644Z",
     "shell.execute_reply": "2024-01-17T04:37:07.547259Z"
    },
    "papermill": {
     "duration": 0.025856,
     "end_time": "2024-01-17T04:37:07.551738",
     "exception": false,
     "start_time": "2024-01-17T04:37:07.525882",
     "status": "completed"
    },
    "tags": []
   },
   "outputs": [
    {
     "data": {
      "text/plain": [
       "Index(['Hidden Gem Score', 'IMDb Score', 'Rotten Tomatoes Score',\n",
       "       'Awards Received', 'Awards Nominated For', 'IMDb Votes'],\n",
       "      dtype='object')"
      ]
     },
     "execution_count": 12,
     "metadata": {},
     "output_type": "execute_result"
    }
   ],
   "source": [
    "float_object.columns"
   ]
  },
  {
   "cell_type": "code",
   "execution_count": 13,
   "id": "b46458ef",
   "metadata": {
    "execution": {
     "iopub.execute_input": "2024-01-17T04:37:07.576633Z",
     "iopub.status.busy": "2024-01-17T04:37:07.575541Z",
     "iopub.status.idle": "2024-01-17T04:37:07.598127Z",
     "shell.execute_reply": "2024-01-17T04:37:07.596497Z"
    },
    "papermill": {
     "duration": 0.040184,
     "end_time": "2024-01-17T04:37:07.602495",
     "exception": false,
     "start_time": "2024-01-17T04:37:07.562311",
     "status": "completed"
    },
    "tags": []
   },
   "outputs": [],
   "source": [
    "float_columns = df.select_dtypes(include=['float64']).columns\n",
    "float_object = df[float_columns]\n",
    "\n",
    "# Menghitung rata-rata dan mengisi nilai yang hilang dengan rata-rata\n",
    "min_float = float_object.min().round()\n",
    "df[float_columns] = df[float_columns].fillna(min_float)\n"
   ]
  },
  {
   "cell_type": "code",
   "execution_count": 14,
   "id": "b0099102",
   "metadata": {
    "execution": {
     "iopub.execute_input": "2024-01-17T04:37:07.627295Z",
     "iopub.status.busy": "2024-01-17T04:37:07.625716Z",
     "iopub.status.idle": "2024-01-17T04:37:07.647023Z",
     "shell.execute_reply": "2024-01-17T04:37:07.645668Z"
    },
    "papermill": {
     "duration": 0.037894,
     "end_time": "2024-01-17T04:37:07.650705",
     "exception": false,
     "start_time": "2024-01-17T04:37:07.612811",
     "status": "completed"
    },
    "tags": []
   },
   "outputs": [
    {
     "data": {
      "text/plain": [
       "Hidden Gem Score         0.0\n",
       "IMDb Score               0.0\n",
       "Rotten Tomatoes Score    0.0\n",
       "Awards Received          0.0\n",
       "Awards Nominated For     0.0\n",
       "IMDb Votes               0.0\n",
       "dtype: float64"
      ]
     },
     "execution_count": 14,
     "metadata": {},
     "output_type": "execute_result"
    }
   ],
   "source": [
    "#percentage of missing values in columns that have float data type\n",
    "float_columns = df.select_dtypes(include=['float64']).columns\n",
    "float_object=df[float_columns]\n",
    "float_object.isna().sum()/15480*100"
   ]
  },
  {
   "cell_type": "markdown",
   "id": "6223ad3b",
   "metadata": {
    "papermill": {
     "duration": 0.009964,
     "end_time": "2024-01-17T04:37:07.671145",
     "exception": false,
     "start_time": "2024-01-17T04:37:07.661181",
     "status": "completed"
    },
    "tags": []
   },
   "source": [
    "Too many missing values have risks if you delete them immediately, I decided to fill in some missing columns to maximize the performance of the data for further analysis."
   ]
  },
  {
   "cell_type": "markdown",
   "id": "ed1a20b5",
   "metadata": {
    "papermill": {
     "duration": 0.010546,
     "end_time": "2024-01-17T04:37:07.691974",
     "exception": false,
     "start_time": "2024-01-17T04:37:07.681428",
     "status": "completed"
    },
    "tags": []
   },
   "source": [
    "formating data"
   ]
  },
  {
   "cell_type": "code",
   "execution_count": 15,
   "id": "b554ccfd",
   "metadata": {
    "execution": {
     "iopub.execute_input": "2024-01-17T04:37:07.717119Z",
     "iopub.status.busy": "2024-01-17T04:37:07.716017Z",
     "iopub.status.idle": "2024-01-17T04:37:07.738414Z",
     "shell.execute_reply": "2024-01-17T04:37:07.737031Z"
    },
    "papermill": {
     "duration": 0.038405,
     "end_time": "2024-01-17T04:37:07.741679",
     "exception": false,
     "start_time": "2024-01-17T04:37:07.703274",
     "status": "completed"
    },
    "tags": []
   },
   "outputs": [],
   "source": [
    "df['Netflix Release Date'] = pd.to_datetime(df['Netflix Release Date'])"
   ]
  },
  {
   "cell_type": "code",
   "execution_count": 16,
   "id": "96c95ace",
   "metadata": {
    "execution": {
     "iopub.execute_input": "2024-01-17T04:37:07.766647Z",
     "iopub.status.busy": "2024-01-17T04:37:07.765598Z",
     "iopub.status.idle": "2024-01-17T04:37:07.803836Z",
     "shell.execute_reply": "2024-01-17T04:37:07.802277Z"
    },
    "papermill": {
     "duration": 0.055677,
     "end_time": "2024-01-17T04:37:07.807611",
     "exception": false,
     "start_time": "2024-01-17T04:37:07.751934",
     "status": "completed"
    },
    "tags": []
   },
   "outputs": [
    {
     "data": {
      "text/html": [
       "<div>\n",
       "<style scoped>\n",
       "    .dataframe tbody tr th:only-of-type {\n",
       "        vertical-align: middle;\n",
       "    }\n",
       "\n",
       "    .dataframe tbody tr th {\n",
       "        vertical-align: top;\n",
       "    }\n",
       "\n",
       "    .dataframe thead th {\n",
       "        text-align: right;\n",
       "    }\n",
       "</style>\n",
       "<table border=\"1\" class=\"dataframe\">\n",
       "  <thead>\n",
       "    <tr style=\"text-align: right;\">\n",
       "      <th></th>\n",
       "      <th>Title</th>\n",
       "      <th>Genre</th>\n",
       "      <th>Tags</th>\n",
       "      <th>Languages</th>\n",
       "      <th>Series or Movie</th>\n",
       "      <th>Hidden Gem Score</th>\n",
       "      <th>Country Availability</th>\n",
       "      <th>Runtime</th>\n",
       "      <th>Director</th>\n",
       "      <th>Writer</th>\n",
       "      <th>Actors</th>\n",
       "      <th>View Rating</th>\n",
       "      <th>IMDb Score</th>\n",
       "      <th>Rotten Tomatoes Score</th>\n",
       "      <th>Awards Received</th>\n",
       "      <th>Awards Nominated For</th>\n",
       "      <th>Release Date</th>\n",
       "      <th>Netflix Release Date</th>\n",
       "      <th>Production House</th>\n",
       "      <th>Netflix Link</th>\n",
       "      <th>IMDb Link</th>\n",
       "      <th>Summary</th>\n",
       "      <th>IMDb Votes</th>\n",
       "      <th>Image</th>\n",
       "    </tr>\n",
       "  </thead>\n",
       "  <tbody>\n",
       "    <tr>\n",
       "      <th>0</th>\n",
       "      <td>Lets Fight Ghost</td>\n",
       "      <td>Crime, Drama, Fantasy, Horror, Romance</td>\n",
       "      <td>Comedy Programmes,Romantic TV Comedies,Horror ...</td>\n",
       "      <td>Swedish, Spanish</td>\n",
       "      <td>Series</td>\n",
       "      <td>4.3</td>\n",
       "      <td>Thailand</td>\n",
       "      <td>&lt; 30 minutes</td>\n",
       "      <td>Tomas Alfredson</td>\n",
       "      <td>John Ajvide Lindqvist</td>\n",
       "      <td>Kåre Hedebrant, Per Ragnar, Lina Leandersson, ...</td>\n",
       "      <td>R</td>\n",
       "      <td>7.9</td>\n",
       "      <td>98.0</td>\n",
       "      <td>74.0</td>\n",
       "      <td>57.0</td>\n",
       "      <td>12 Dec 2008</td>\n",
       "      <td>2021-03-04</td>\n",
       "      <td>Canal+, Sandrew Metronome</td>\n",
       "      <td>https://www.netflix.com/watch/81415947</td>\n",
       "      <td>https://www.imdb.com/title/tt1139797</td>\n",
       "      <td>A med student with a supernatural gift tries t...</td>\n",
       "      <td>205926.0</td>\n",
       "      <td>https://occ-0-4708-64.1.nflxso.net/dnm/api/v6/...</td>\n",
       "    </tr>\n",
       "    <tr>\n",
       "      <th>1</th>\n",
       "      <td>HOW TO BUILD A GIRL</td>\n",
       "      <td>Comedy</td>\n",
       "      <td>Dramas,Comedies,Films Based on Books,British</td>\n",
       "      <td>English</td>\n",
       "      <td>Movie</td>\n",
       "      <td>7.0</td>\n",
       "      <td>Canada</td>\n",
       "      <td>1-2 hour</td>\n",
       "      <td>Coky Giedroyc</td>\n",
       "      <td>Caitlin Moran</td>\n",
       "      <td>Paddy Considine, Cleo, Beanie Feldstein, Dónal...</td>\n",
       "      <td>R</td>\n",
       "      <td>5.8</td>\n",
       "      <td>79.0</td>\n",
       "      <td>1.0</td>\n",
       "      <td>1.0</td>\n",
       "      <td>08 May 2020</td>\n",
       "      <td>2021-03-04</td>\n",
       "      <td>Film 4, Monumental Pictures, Lionsgate</td>\n",
       "      <td>https://www.netflix.com/watch/81041267</td>\n",
       "      <td>https://www.imdb.com/title/tt4193072</td>\n",
       "      <td>When nerdy Johanna moves to London, things get...</td>\n",
       "      <td>2838.0</td>\n",
       "      <td>https://occ-0-1081-999.1.nflxso.net/dnm/api/v6...</td>\n",
       "    </tr>\n",
       "    <tr>\n",
       "      <th>2</th>\n",
       "      <td>Centigrade</td>\n",
       "      <td>Drama, Thriller</td>\n",
       "      <td>Thrillers</td>\n",
       "      <td>English</td>\n",
       "      <td>Movie</td>\n",
       "      <td>6.4</td>\n",
       "      <td>Canada</td>\n",
       "      <td>1-2 hour</td>\n",
       "      <td>Brendan Walsh</td>\n",
       "      <td>Brendan Walsh, Daley Nixon</td>\n",
       "      <td>Genesis Rodriguez, Vincent Piazza</td>\n",
       "      <td>Unrated</td>\n",
       "      <td>4.3</td>\n",
       "      <td>0.0</td>\n",
       "      <td>1.0</td>\n",
       "      <td>1.0</td>\n",
       "      <td>28 Aug 2020</td>\n",
       "      <td>2021-03-04</td>\n",
       "      <td>unknown</td>\n",
       "      <td>https://www.netflix.com/watch/81305978</td>\n",
       "      <td>https://www.imdb.com/title/tt8945942</td>\n",
       "      <td>Trapped in a frozen car during a blizzard, a p...</td>\n",
       "      <td>1720.0</td>\n",
       "      <td>https://occ-0-1081-999.1.nflxso.net/dnm/api/v6...</td>\n",
       "    </tr>\n",
       "    <tr>\n",
       "      <th>3</th>\n",
       "      <td>ANNE+</td>\n",
       "      <td>Drama</td>\n",
       "      <td>TV Dramas,Romantic TV Dramas,Dutch TV Shows</td>\n",
       "      <td>Turkish</td>\n",
       "      <td>Series</td>\n",
       "      <td>7.7</td>\n",
       "      <td>Belgium,Netherlands</td>\n",
       "      <td>&lt; 30 minutes</td>\n",
       "      <td>unknown</td>\n",
       "      <td>unknown</td>\n",
       "      <td>Vahide Perçin, Gonca Vuslateri, Cansu Dere, Be...</td>\n",
       "      <td>Unrated</td>\n",
       "      <td>6.5</td>\n",
       "      <td>0.0</td>\n",
       "      <td>1.0</td>\n",
       "      <td>1.0</td>\n",
       "      <td>01 Oct 2016</td>\n",
       "      <td>2021-03-04</td>\n",
       "      <td>unknown</td>\n",
       "      <td>https://www.netflix.com/watch/81336456</td>\n",
       "      <td>https://www.imdb.com/title/tt6132758</td>\n",
       "      <td>Upon moving into a new place, a 20-something r...</td>\n",
       "      <td>1147.0</td>\n",
       "      <td>https://occ-0-1489-1490.1.nflxso.net/dnm/api/v...</td>\n",
       "    </tr>\n",
       "    <tr>\n",
       "      <th>4</th>\n",
       "      <td>Moxie</td>\n",
       "      <td>Animation, Short, Drama</td>\n",
       "      <td>Social Issue Dramas,Teen Movies,Dramas,Comedie...</td>\n",
       "      <td>English</td>\n",
       "      <td>Movie</td>\n",
       "      <td>8.1</td>\n",
       "      <td>Lithuania,Poland,France,Iceland,Italy,Spain,Gr...</td>\n",
       "      <td>1-2 hour</td>\n",
       "      <td>Stephen Irwin</td>\n",
       "      <td>unknown</td>\n",
       "      <td>Ragga Gudrun</td>\n",
       "      <td>Unrated</td>\n",
       "      <td>6.3</td>\n",
       "      <td>0.0</td>\n",
       "      <td>1.0</td>\n",
       "      <td>4.0</td>\n",
       "      <td>22 Sep 2011</td>\n",
       "      <td>2021-03-04</td>\n",
       "      <td>unknown</td>\n",
       "      <td>https://www.netflix.com/watch/81078393</td>\n",
       "      <td>https://www.imdb.com/title/tt2023611</td>\n",
       "      <td>Inspired by her moms rebellious past and a con...</td>\n",
       "      <td>63.0</td>\n",
       "      <td>https://occ-0-4039-1500.1.nflxso.net/dnm/api/v...</td>\n",
       "    </tr>\n",
       "  </tbody>\n",
       "</table>\n",
       "</div>"
      ],
      "text/plain": [
       "                 Title                                   Genre  \\\n",
       "0     Lets Fight Ghost  Crime, Drama, Fantasy, Horror, Romance   \n",
       "1  HOW TO BUILD A GIRL                                  Comedy   \n",
       "2           Centigrade                         Drama, Thriller   \n",
       "3                ANNE+                                   Drama   \n",
       "4                Moxie                 Animation, Short, Drama   \n",
       "\n",
       "                                                Tags         Languages  \\\n",
       "0  Comedy Programmes,Romantic TV Comedies,Horror ...  Swedish, Spanish   \n",
       "1       Dramas,Comedies,Films Based on Books,British           English   \n",
       "2                                          Thrillers           English   \n",
       "3        TV Dramas,Romantic TV Dramas,Dutch TV Shows           Turkish   \n",
       "4  Social Issue Dramas,Teen Movies,Dramas,Comedie...           English   \n",
       "\n",
       "  Series or Movie  Hidden Gem Score  \\\n",
       "0          Series               4.3   \n",
       "1           Movie               7.0   \n",
       "2           Movie               6.4   \n",
       "3          Series               7.7   \n",
       "4           Movie               8.1   \n",
       "\n",
       "                                Country Availability       Runtime  \\\n",
       "0                                           Thailand  < 30 minutes   \n",
       "1                                             Canada      1-2 hour   \n",
       "2                                             Canada      1-2 hour   \n",
       "3                                Belgium,Netherlands  < 30 minutes   \n",
       "4  Lithuania,Poland,France,Iceland,Italy,Spain,Gr...      1-2 hour   \n",
       "\n",
       "          Director                      Writer  \\\n",
       "0  Tomas Alfredson       John Ajvide Lindqvist   \n",
       "1    Coky Giedroyc               Caitlin Moran   \n",
       "2    Brendan Walsh  Brendan Walsh, Daley Nixon   \n",
       "3          unknown                     unknown   \n",
       "4    Stephen Irwin                     unknown   \n",
       "\n",
       "                                              Actors View Rating  IMDb Score  \\\n",
       "0  Kåre Hedebrant, Per Ragnar, Lina Leandersson, ...           R         7.9   \n",
       "1  Paddy Considine, Cleo, Beanie Feldstein, Dónal...           R         5.8   \n",
       "2                  Genesis Rodriguez, Vincent Piazza     Unrated         4.3   \n",
       "3  Vahide Perçin, Gonca Vuslateri, Cansu Dere, Be...     Unrated         6.5   \n",
       "4                                       Ragga Gudrun     Unrated         6.3   \n",
       "\n",
       "   Rotten Tomatoes Score  Awards Received  Awards Nominated For Release Date  \\\n",
       "0                   98.0             74.0                  57.0  12 Dec 2008   \n",
       "1                   79.0              1.0                   1.0  08 May 2020   \n",
       "2                    0.0              1.0                   1.0  28 Aug 2020   \n",
       "3                    0.0              1.0                   1.0  01 Oct 2016   \n",
       "4                    0.0              1.0                   4.0  22 Sep 2011   \n",
       "\n",
       "  Netflix Release Date                        Production House  \\\n",
       "0           2021-03-04               Canal+, Sandrew Metronome   \n",
       "1           2021-03-04  Film 4, Monumental Pictures, Lionsgate   \n",
       "2           2021-03-04                                 unknown   \n",
       "3           2021-03-04                                 unknown   \n",
       "4           2021-03-04                                 unknown   \n",
       "\n",
       "                             Netflix Link  \\\n",
       "0  https://www.netflix.com/watch/81415947   \n",
       "1  https://www.netflix.com/watch/81041267   \n",
       "2  https://www.netflix.com/watch/81305978   \n",
       "3  https://www.netflix.com/watch/81336456   \n",
       "4  https://www.netflix.com/watch/81078393   \n",
       "\n",
       "                              IMDb Link  \\\n",
       "0  https://www.imdb.com/title/tt1139797   \n",
       "1  https://www.imdb.com/title/tt4193072   \n",
       "2  https://www.imdb.com/title/tt8945942   \n",
       "3  https://www.imdb.com/title/tt6132758   \n",
       "4  https://www.imdb.com/title/tt2023611   \n",
       "\n",
       "                                             Summary  IMDb Votes  \\\n",
       "0  A med student with a supernatural gift tries t...    205926.0   \n",
       "1  When nerdy Johanna moves to London, things get...      2838.0   \n",
       "2  Trapped in a frozen car during a blizzard, a p...      1720.0   \n",
       "3  Upon moving into a new place, a 20-something r...      1147.0   \n",
       "4  Inspired by her moms rebellious past and a con...        63.0   \n",
       "\n",
       "                                               Image  \n",
       "0  https://occ-0-4708-64.1.nflxso.net/dnm/api/v6/...  \n",
       "1  https://occ-0-1081-999.1.nflxso.net/dnm/api/v6...  \n",
       "2  https://occ-0-1081-999.1.nflxso.net/dnm/api/v6...  \n",
       "3  https://occ-0-1489-1490.1.nflxso.net/dnm/api/v...  \n",
       "4  https://occ-0-4039-1500.1.nflxso.net/dnm/api/v...  "
      ]
     },
     "execution_count": 16,
     "metadata": {},
     "output_type": "execute_result"
    }
   ],
   "source": [
    "df.head()"
   ]
  },
  {
   "cell_type": "code",
   "execution_count": null,
   "id": "b3aa547b",
   "metadata": {
    "papermill": {
     "duration": 0.011135,
     "end_time": "2024-01-17T04:37:07.830249",
     "exception": false,
     "start_time": "2024-01-17T04:37:07.819114",
     "status": "completed"
    },
    "tags": []
   },
   "outputs": [],
   "source": []
  }
 ],
 "metadata": {
  "kaggle": {
   "accelerator": "none",
   "dataSources": [
    {
     "datasetId": 1298562,
     "sourceId": 2164518,
     "sourceType": "datasetVersion"
    }
   ],
   "dockerImageVersionId": 30635,
   "isGpuEnabled": false,
   "isInternetEnabled": false,
   "language": "python",
   "sourceType": "notebook"
  },
  "kernelspec": {
   "display_name": "Python 3",
   "language": "python",
   "name": "python3"
  },
  "language_info": {
   "codemirror_mode": {
    "name": "ipython",
    "version": 3
   },
   "file_extension": ".py",
   "mimetype": "text/x-python",
   "name": "python",
   "nbconvert_exporter": "python",
   "pygments_lexer": "ipython3",
   "version": "3.10.12"
  },
  "papermill": {
   "default_parameters": {},
   "duration": 9.233867,
   "end_time": "2024-01-17T04:37:08.869737",
   "environment_variables": {},
   "exception": null,
   "input_path": "__notebook__.ipynb",
   "output_path": "__notebook__.ipynb",
   "parameters": {},
   "start_time": "2024-01-17T04:36:59.635870",
   "version": "2.4.0"
  }
 },
 "nbformat": 4,
 "nbformat_minor": 5
}
